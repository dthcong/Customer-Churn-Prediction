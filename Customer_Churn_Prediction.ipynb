{
  "nbformat": 4,
  "nbformat_minor": 0,
  "metadata": {
    "colab": {
      "provenance": []
    },
    "kernelspec": {
      "name": "python3",
      "display_name": "Python 3"
    },
    "language_info": {
      "name": "python"
    }
  },
  "cells": [
    {
      "cell_type": "markdown",
      "source": [
        "## Objective\n",
        "\n",
        "Xây dựng một mô hình dự đoán khách hàng tại Ngân hàng Đa quốc gia ABC sẽ rời bỏ hay tiếp tục sử dụng dịch vụ.\n",
        "\n",
        "Mô hình này sẽ được team Strategy sử dụng để ước lượng số lượng khách hàng rời bỏ và lên các phương án cải thiện.\n"
      ],
      "metadata": {
        "id": "jeBd3uTSDPPa"
      }
    },
    {
      "cell_type": "markdown",
      "source": [
        "## Dataset & Description\n",
        "\n",
        "Link dataset:\n",
        "\n",
        "https://drive.google.com/file/d/1fFqLRizk_W9WCtRVKusQclwDU_5KaUg7/view?usp=drive_link\n",
        "\n",
        "Đây là dữ liệu khách hàng của các khách hàng tại Ngân hàng Đa quốc gia ABC có phát sinh giao dịch"
      ],
      "metadata": {
        "id": "a8CGn3cMtCCd"
      }
    },
    {
      "cell_type": "markdown",
      "source": [
        "## Result\n",
        "\n",
        "File source code xây dựng mô hình có dạng `ipynb`."
      ],
      "metadata": {
        "id": "Nn--z_MweQto"
      }
    },
    {
      "cell_type": "markdown",
      "source": [
        "# Solution\n",
        "Trước hết ta phân tích đề bài và làm rõ các điểm chính:\n",
        "  - Tài nguyên: dựa vào data/thông tin gì, lấy ở đâu, có ý nghĩa gì, có thêm/bớt được hay không?\n",
        "  > dataset đầu bài, trong lĩnh vực NH, dữ liệu không thể thêm/bớt.\n",
        "  - Mục tiêu: kết quả mong muốn cuối cùng là gì?\n",
        "  > model có khả năng dự báo KH ngưng sử dụng Dv > bài toán Classification.\n",
        "\n",
        "  > File nộp lưu định dạng `.ipynb`.\n",
        "  - Đối tượng: kết quả dành cho ai?\n",
        "  > dành cho Team Strategy > chỉ cần Model dự báo tốt nhất dưới dạng Yes/No, không cần con số xác suất chính xác.\n",
        "  - Phương tiện: sử dụng những công cụ gì?\n",
        "  > các thư viện panda, sklearn, matplotlib, seaborn ...\n",
        "  - Phương pháp: sử dụng các phương pháp gì?\n",
        "  > Các dataset dạng này hay xảy ra Imbalance nên cần chú ý xem xét các chỉ số khác ngoài Accuracy (Vd F1 score) đồng thời cân nhắc các cách Resampling phù hợp (tham khảo: [SMOTE Variations](https://www.kdnuggets.com/2023/01/7-smote-variations-oversampling.html)) và triển khai nhiều model để có cái nhìn toàn diện nhất có thể.\n",
        "\n",
        "  > Bên cạnh đó cũng xem xét khả năng chọn Feature phù hợp thay vì Resampling để so sánh (tham khảo: [Are unbalanced datasets problematic?](https://stats.stackexchange.com/questions/357466/are-unbalanced-datasets-problematic-and-how-does-oversampling-purport-to-he))."
      ],
      "metadata": {
        "id": "q_rHLwsGfTD4"
      }
    },
    {
      "cell_type": "markdown",
      "source": [
        "Sau đó mới đưa ra phương hướng xử lý như sau:\n",
        "\n",
        "1/ Thực hiện EDA tìm hiểu dữ liệu.\n",
        "\n",
        "2/ Đưa ra Hypothesis về sự tương quan giữa Features và Target.\n",
        "\n",
        "3/ Tiến hành Preprocessing.\n",
        "\n",
        "4/ Dựa vào Hypothesis tiến hành Modeling theo 2 cách:\n",
        "\n",
        "* Thực hiện Feature Selection bằng method `Corr` chọn ra các Feature tốt nhất (ảnh hưởng nhất) để thực hiện Modeling (thay vì dùng tất cả và chấp nhận Data Imbalance). Sau đó thực thiện Modeling với nhiều Model khác nhau để tìm ra Model phù hợp nhất.\n",
        "\n",
        "* Thực hiện Resampling Data với tất cả các Feature có liên quan với Target theo 3 cách khác nhau (Under, Over hay kết hợp). Sau đó thực thiện Modeling với nhiều Model khác nhau để tìm ra cách Resampling và Model phù hợp nhất.\n",
        "\n",
        "5/ So sánh các kết quả thu được theo 2 cách trên để đưa ra nhận xét và đề xuất."
      ],
      "metadata": {
        "id": "OAoQ2HT-YSi1"
      }
    },
    {
      "cell_type": "markdown",
      "source": [
        "## EDA"
      ],
      "metadata": {
        "id": "Ah3EQa-W-z46"
      }
    },
    {
      "cell_type": "markdown",
      "source": [
        "### Import Library"
      ],
      "metadata": {
        "id": "h949ZGlw1OA6"
      }
    },
    {
      "cell_type": "code",
      "source": [
        "# import panda để xử lý data\n",
        "import pandas as pd\n",
        "\n",
        "# import các lib để tạo visual\n",
        "import matplotlib.pyplot as plt\n",
        "import seaborn as sns\n",
        "\n",
        "# import lib để download file vào collab và xử lý file zip\n",
        "import gdown\n",
        "import zipfile"
      ],
      "metadata": {
        "id": "HlLjtluJ2qVw"
      },
      "execution_count": null,
      "outputs": []
    },
    {
      "cell_type": "markdown",
      "source": [
        "### Load Data"
      ],
      "metadata": {
        "id": "tGOsGroS2r1m"
      }
    },
    {
      "cell_type": "code",
      "source": [
        "link = 'https://drive.google.com/file/d/1fFqLRizk_W9WCtRVKusQclwDU_5KaUg7/view'\n",
        "path = 'https://drive.google.com/uc?id='+link.split('/')[-2]\n",
        "\n",
        "# download file lên collab\n",
        "file = gdown.download(path)\n",
        "\n",
        "# tạo object là file zip để thao tác\n",
        "zf = zipfile.ZipFile(file)\n",
        "\n",
        "# mở file 'Data_Quest_2.csv' trong số 2 file con của file zip và load vào dataframe\n",
        "df = pd.read_csv(zf.open('Data_Quest_2.csv'))\n",
        "\n",
        "# xem 10 dòng đầu tiên trong dataset\n",
        "df.head(10)"
      ],
      "metadata": {
        "colab": {
          "base_uri": "https://localhost:8080/",
          "height": 432
        },
        "id": "ATbTTVBuASsn",
        "outputId": "956d5570-2e74-4510-d6c5-8608579a8dd5"
      },
      "execution_count": null,
      "outputs": [
        {
          "output_type": "stream",
          "name": "stderr",
          "text": [
            "Downloading...\n",
            "From: https://drive.google.com/uc?id=1fFqLRizk_W9WCtRVKusQclwDU_5KaUg7\n",
            "To: /content/Data_Quest_2.zip\n",
            "100%|██████████| 194k/194k [00:00<00:00, 58.9MB/s]\n"
          ]
        },
        {
          "output_type": "execute_result",
          "data": {
            "text/plain": [
              "   customer_id  credit_score  country  gender  age  tenure    balance  \\\n",
              "0     15634602           619   France  Female   42       2       0.00   \n",
              "1     15647311           608    Spain  Female   41       1   83807.86   \n",
              "2     15619304           502   France  Female   42       8  159660.80   \n",
              "3     15701354           699   France  Female   39       1       0.00   \n",
              "4     15737888           850    Spain  Female   43       2  125510.82   \n",
              "5     15574012           645    Spain    Male   44       8  113755.78   \n",
              "6     15592531           822   France    Male   50       7       0.00   \n",
              "7     15656148           376  Germany  Female   29       4  115046.74   \n",
              "8     15792365           501   France    Male   44       4  142051.07   \n",
              "9     15592389           684   France    Male   27       2  134603.88   \n",
              "\n",
              "   products_number  credit_card  active_member  estimated_salary  churn  \n",
              "0                1            1              1         101348.88      1  \n",
              "1                1            0              1         112542.58      0  \n",
              "2                3            1              0         113931.57      1  \n",
              "3                2            0              0          93826.63      0  \n",
              "4                1            1              1          79084.10      0  \n",
              "5                2            1              0         149756.71      1  \n",
              "6                2            1              1          10062.80      0  \n",
              "7                4            1              0         119346.88      1  \n",
              "8                2            0              1          74940.50      0  \n",
              "9                1            1              1          71725.73      0  "
            ],
            "text/html": [
              "\n",
              "  <div id=\"df-4bc2cb84-78ae-4ad4-9dfe-3d9b0ac115ae\" class=\"colab-df-container\">\n",
              "    <div>\n",
              "<style scoped>\n",
              "    .dataframe tbody tr th:only-of-type {\n",
              "        vertical-align: middle;\n",
              "    }\n",
              "\n",
              "    .dataframe tbody tr th {\n",
              "        vertical-align: top;\n",
              "    }\n",
              "\n",
              "    .dataframe thead th {\n",
              "        text-align: right;\n",
              "    }\n",
              "</style>\n",
              "<table border=\"1\" class=\"dataframe\">\n",
              "  <thead>\n",
              "    <tr style=\"text-align: right;\">\n",
              "      <th></th>\n",
              "      <th>customer_id</th>\n",
              "      <th>credit_score</th>\n",
              "      <th>country</th>\n",
              "      <th>gender</th>\n",
              "      <th>age</th>\n",
              "      <th>tenure</th>\n",
              "      <th>balance</th>\n",
              "      <th>products_number</th>\n",
              "      <th>credit_card</th>\n",
              "      <th>active_member</th>\n",
              "      <th>estimated_salary</th>\n",
              "      <th>churn</th>\n",
              "    </tr>\n",
              "  </thead>\n",
              "  <tbody>\n",
              "    <tr>\n",
              "      <th>0</th>\n",
              "      <td>15634602</td>\n",
              "      <td>619</td>\n",
              "      <td>France</td>\n",
              "      <td>Female</td>\n",
              "      <td>42</td>\n",
              "      <td>2</td>\n",
              "      <td>0.00</td>\n",
              "      <td>1</td>\n",
              "      <td>1</td>\n",
              "      <td>1</td>\n",
              "      <td>101348.88</td>\n",
              "      <td>1</td>\n",
              "    </tr>\n",
              "    <tr>\n",
              "      <th>1</th>\n",
              "      <td>15647311</td>\n",
              "      <td>608</td>\n",
              "      <td>Spain</td>\n",
              "      <td>Female</td>\n",
              "      <td>41</td>\n",
              "      <td>1</td>\n",
              "      <td>83807.86</td>\n",
              "      <td>1</td>\n",
              "      <td>0</td>\n",
              "      <td>1</td>\n",
              "      <td>112542.58</td>\n",
              "      <td>0</td>\n",
              "    </tr>\n",
              "    <tr>\n",
              "      <th>2</th>\n",
              "      <td>15619304</td>\n",
              "      <td>502</td>\n",
              "      <td>France</td>\n",
              "      <td>Female</td>\n",
              "      <td>42</td>\n",
              "      <td>8</td>\n",
              "      <td>159660.80</td>\n",
              "      <td>3</td>\n",
              "      <td>1</td>\n",
              "      <td>0</td>\n",
              "      <td>113931.57</td>\n",
              "      <td>1</td>\n",
              "    </tr>\n",
              "    <tr>\n",
              "      <th>3</th>\n",
              "      <td>15701354</td>\n",
              "      <td>699</td>\n",
              "      <td>France</td>\n",
              "      <td>Female</td>\n",
              "      <td>39</td>\n",
              "      <td>1</td>\n",
              "      <td>0.00</td>\n",
              "      <td>2</td>\n",
              "      <td>0</td>\n",
              "      <td>0</td>\n",
              "      <td>93826.63</td>\n",
              "      <td>0</td>\n",
              "    </tr>\n",
              "    <tr>\n",
              "      <th>4</th>\n",
              "      <td>15737888</td>\n",
              "      <td>850</td>\n",
              "      <td>Spain</td>\n",
              "      <td>Female</td>\n",
              "      <td>43</td>\n",
              "      <td>2</td>\n",
              "      <td>125510.82</td>\n",
              "      <td>1</td>\n",
              "      <td>1</td>\n",
              "      <td>1</td>\n",
              "      <td>79084.10</td>\n",
              "      <td>0</td>\n",
              "    </tr>\n",
              "    <tr>\n",
              "      <th>5</th>\n",
              "      <td>15574012</td>\n",
              "      <td>645</td>\n",
              "      <td>Spain</td>\n",
              "      <td>Male</td>\n",
              "      <td>44</td>\n",
              "      <td>8</td>\n",
              "      <td>113755.78</td>\n",
              "      <td>2</td>\n",
              "      <td>1</td>\n",
              "      <td>0</td>\n",
              "      <td>149756.71</td>\n",
              "      <td>1</td>\n",
              "    </tr>\n",
              "    <tr>\n",
              "      <th>6</th>\n",
              "      <td>15592531</td>\n",
              "      <td>822</td>\n",
              "      <td>France</td>\n",
              "      <td>Male</td>\n",
              "      <td>50</td>\n",
              "      <td>7</td>\n",
              "      <td>0.00</td>\n",
              "      <td>2</td>\n",
              "      <td>1</td>\n",
              "      <td>1</td>\n",
              "      <td>10062.80</td>\n",
              "      <td>0</td>\n",
              "    </tr>\n",
              "    <tr>\n",
              "      <th>7</th>\n",
              "      <td>15656148</td>\n",
              "      <td>376</td>\n",
              "      <td>Germany</td>\n",
              "      <td>Female</td>\n",
              "      <td>29</td>\n",
              "      <td>4</td>\n",
              "      <td>115046.74</td>\n",
              "      <td>4</td>\n",
              "      <td>1</td>\n",
              "      <td>0</td>\n",
              "      <td>119346.88</td>\n",
              "      <td>1</td>\n",
              "    </tr>\n",
              "    <tr>\n",
              "      <th>8</th>\n",
              "      <td>15792365</td>\n",
              "      <td>501</td>\n",
              "      <td>France</td>\n",
              "      <td>Male</td>\n",
              "      <td>44</td>\n",
              "      <td>4</td>\n",
              "      <td>142051.07</td>\n",
              "      <td>2</td>\n",
              "      <td>0</td>\n",
              "      <td>1</td>\n",
              "      <td>74940.50</td>\n",
              "      <td>0</td>\n",
              "    </tr>\n",
              "    <tr>\n",
              "      <th>9</th>\n",
              "      <td>15592389</td>\n",
              "      <td>684</td>\n",
              "      <td>France</td>\n",
              "      <td>Male</td>\n",
              "      <td>27</td>\n",
              "      <td>2</td>\n",
              "      <td>134603.88</td>\n",
              "      <td>1</td>\n",
              "      <td>1</td>\n",
              "      <td>1</td>\n",
              "      <td>71725.73</td>\n",
              "      <td>0</td>\n",
              "    </tr>\n",
              "  </tbody>\n",
              "</table>\n",
              "</div>\n",
              "    <div class=\"colab-df-buttons\">\n",
              "\n",
              "  <div class=\"colab-df-container\">\n",
              "    <button class=\"colab-df-convert\" onclick=\"convertToInteractive('df-4bc2cb84-78ae-4ad4-9dfe-3d9b0ac115ae')\"\n",
              "            title=\"Convert this dataframe to an interactive table.\"\n",
              "            style=\"display:none;\">\n",
              "\n",
              "  <svg xmlns=\"http://www.w3.org/2000/svg\" height=\"24px\" viewBox=\"0 -960 960 960\">\n",
              "    <path d=\"M120-120v-720h720v720H120Zm60-500h600v-160H180v160Zm220 220h160v-160H400v160Zm0 220h160v-160H400v160ZM180-400h160v-160H180v160Zm440 0h160v-160H620v160ZM180-180h160v-160H180v160Zm440 0h160v-160H620v160Z\"/>\n",
              "  </svg>\n",
              "    </button>\n",
              "\n",
              "  <style>\n",
              "    .colab-df-container {\n",
              "      display:flex;\n",
              "      gap: 12px;\n",
              "    }\n",
              "\n",
              "    .colab-df-convert {\n",
              "      background-color: #E8F0FE;\n",
              "      border: none;\n",
              "      border-radius: 50%;\n",
              "      cursor: pointer;\n",
              "      display: none;\n",
              "      fill: #1967D2;\n",
              "      height: 32px;\n",
              "      padding: 0 0 0 0;\n",
              "      width: 32px;\n",
              "    }\n",
              "\n",
              "    .colab-df-convert:hover {\n",
              "      background-color: #E2EBFA;\n",
              "      box-shadow: 0px 1px 2px rgba(60, 64, 67, 0.3), 0px 1px 3px 1px rgba(60, 64, 67, 0.15);\n",
              "      fill: #174EA6;\n",
              "    }\n",
              "\n",
              "    .colab-df-buttons div {\n",
              "      margin-bottom: 4px;\n",
              "    }\n",
              "\n",
              "    [theme=dark] .colab-df-convert {\n",
              "      background-color: #3B4455;\n",
              "      fill: #D2E3FC;\n",
              "    }\n",
              "\n",
              "    [theme=dark] .colab-df-convert:hover {\n",
              "      background-color: #434B5C;\n",
              "      box-shadow: 0px 1px 3px 1px rgba(0, 0, 0, 0.15);\n",
              "      filter: drop-shadow(0px 1px 2px rgba(0, 0, 0, 0.3));\n",
              "      fill: #FFFFFF;\n",
              "    }\n",
              "  </style>\n",
              "\n",
              "    <script>\n",
              "      const buttonEl =\n",
              "        document.querySelector('#df-4bc2cb84-78ae-4ad4-9dfe-3d9b0ac115ae button.colab-df-convert');\n",
              "      buttonEl.style.display =\n",
              "        google.colab.kernel.accessAllowed ? 'block' : 'none';\n",
              "\n",
              "      async function convertToInteractive(key) {\n",
              "        const element = document.querySelector('#df-4bc2cb84-78ae-4ad4-9dfe-3d9b0ac115ae');\n",
              "        const dataTable =\n",
              "          await google.colab.kernel.invokeFunction('convertToInteractive',\n",
              "                                                    [key], {});\n",
              "        if (!dataTable) return;\n",
              "\n",
              "        const docLinkHtml = 'Like what you see? Visit the ' +\n",
              "          '<a target=\"_blank\" href=https://colab.research.google.com/notebooks/data_table.ipynb>data table notebook</a>'\n",
              "          + ' to learn more about interactive tables.';\n",
              "        element.innerHTML = '';\n",
              "        dataTable['output_type'] = 'display_data';\n",
              "        await google.colab.output.renderOutput(dataTable, element);\n",
              "        const docLink = document.createElement('div');\n",
              "        docLink.innerHTML = docLinkHtml;\n",
              "        element.appendChild(docLink);\n",
              "      }\n",
              "    </script>\n",
              "  </div>\n",
              "\n",
              "\n",
              "<div id=\"df-aebf5da9-7014-451f-9fc6-58164d6c066c\">\n",
              "  <button class=\"colab-df-quickchart\" onclick=\"quickchart('df-aebf5da9-7014-451f-9fc6-58164d6c066c')\"\n",
              "            title=\"Suggest charts.\"\n",
              "            style=\"display:none;\">\n",
              "\n",
              "<svg xmlns=\"http://www.w3.org/2000/svg\" height=\"24px\"viewBox=\"0 0 24 24\"\n",
              "     width=\"24px\">\n",
              "    <g>\n",
              "        <path d=\"M19 3H5c-1.1 0-2 .9-2 2v14c0 1.1.9 2 2 2h14c1.1 0 2-.9 2-2V5c0-1.1-.9-2-2-2zM9 17H7v-7h2v7zm4 0h-2V7h2v10zm4 0h-2v-4h2v4z\"/>\n",
              "    </g>\n",
              "</svg>\n",
              "  </button>\n",
              "\n",
              "<style>\n",
              "  .colab-df-quickchart {\n",
              "      --bg-color: #E8F0FE;\n",
              "      --fill-color: #1967D2;\n",
              "      --hover-bg-color: #E2EBFA;\n",
              "      --hover-fill-color: #174EA6;\n",
              "      --disabled-fill-color: #AAA;\n",
              "      --disabled-bg-color: #DDD;\n",
              "  }\n",
              "\n",
              "  [theme=dark] .colab-df-quickchart {\n",
              "      --bg-color: #3B4455;\n",
              "      --fill-color: #D2E3FC;\n",
              "      --hover-bg-color: #434B5C;\n",
              "      --hover-fill-color: #FFFFFF;\n",
              "      --disabled-bg-color: #3B4455;\n",
              "      --disabled-fill-color: #666;\n",
              "  }\n",
              "\n",
              "  .colab-df-quickchart {\n",
              "    background-color: var(--bg-color);\n",
              "    border: none;\n",
              "    border-radius: 50%;\n",
              "    cursor: pointer;\n",
              "    display: none;\n",
              "    fill: var(--fill-color);\n",
              "    height: 32px;\n",
              "    padding: 0;\n",
              "    width: 32px;\n",
              "  }\n",
              "\n",
              "  .colab-df-quickchart:hover {\n",
              "    background-color: var(--hover-bg-color);\n",
              "    box-shadow: 0 1px 2px rgba(60, 64, 67, 0.3), 0 1px 3px 1px rgba(60, 64, 67, 0.15);\n",
              "    fill: var(--button-hover-fill-color);\n",
              "  }\n",
              "\n",
              "  .colab-df-quickchart-complete:disabled,\n",
              "  .colab-df-quickchart-complete:disabled:hover {\n",
              "    background-color: var(--disabled-bg-color);\n",
              "    fill: var(--disabled-fill-color);\n",
              "    box-shadow: none;\n",
              "  }\n",
              "\n",
              "  .colab-df-spinner {\n",
              "    border: 2px solid var(--fill-color);\n",
              "    border-color: transparent;\n",
              "    border-bottom-color: var(--fill-color);\n",
              "    animation:\n",
              "      spin 1s steps(1) infinite;\n",
              "  }\n",
              "\n",
              "  @keyframes spin {\n",
              "    0% {\n",
              "      border-color: transparent;\n",
              "      border-bottom-color: var(--fill-color);\n",
              "      border-left-color: var(--fill-color);\n",
              "    }\n",
              "    20% {\n",
              "      border-color: transparent;\n",
              "      border-left-color: var(--fill-color);\n",
              "      border-top-color: var(--fill-color);\n",
              "    }\n",
              "    30% {\n",
              "      border-color: transparent;\n",
              "      border-left-color: var(--fill-color);\n",
              "      border-top-color: var(--fill-color);\n",
              "      border-right-color: var(--fill-color);\n",
              "    }\n",
              "    40% {\n",
              "      border-color: transparent;\n",
              "      border-right-color: var(--fill-color);\n",
              "      border-top-color: var(--fill-color);\n",
              "    }\n",
              "    60% {\n",
              "      border-color: transparent;\n",
              "      border-right-color: var(--fill-color);\n",
              "    }\n",
              "    80% {\n",
              "      border-color: transparent;\n",
              "      border-right-color: var(--fill-color);\n",
              "      border-bottom-color: var(--fill-color);\n",
              "    }\n",
              "    90% {\n",
              "      border-color: transparent;\n",
              "      border-bottom-color: var(--fill-color);\n",
              "    }\n",
              "  }\n",
              "</style>\n",
              "\n",
              "  <script>\n",
              "    async function quickchart(key) {\n",
              "      const quickchartButtonEl =\n",
              "        document.querySelector('#' + key + ' button');\n",
              "      quickchartButtonEl.disabled = true;  // To prevent multiple clicks.\n",
              "      quickchartButtonEl.classList.add('colab-df-spinner');\n",
              "      try {\n",
              "        const charts = await google.colab.kernel.invokeFunction(\n",
              "            'suggestCharts', [key], {});\n",
              "      } catch (error) {\n",
              "        console.error('Error during call to suggestCharts:', error);\n",
              "      }\n",
              "      quickchartButtonEl.classList.remove('colab-df-spinner');\n",
              "      quickchartButtonEl.classList.add('colab-df-quickchart-complete');\n",
              "    }\n",
              "    (() => {\n",
              "      let quickchartButtonEl =\n",
              "        document.querySelector('#df-aebf5da9-7014-451f-9fc6-58164d6c066c button');\n",
              "      quickchartButtonEl.style.display =\n",
              "        google.colab.kernel.accessAllowed ? 'block' : 'none';\n",
              "    })();\n",
              "  </script>\n",
              "</div>\n",
              "    </div>\n",
              "  </div>\n"
            ]
          },
          "metadata": {},
          "execution_count": 2
        }
      ]
    },
    {
      "cell_type": "code",
      "source": [
        "# xem 10 dòng ngẫu nhiên trong dataset\n",
        "df.sample(10)"
      ],
      "metadata": {
        "colab": {
          "base_uri": "https://localhost:8080/",
          "height": 383
        },
        "id": "alf3h4-y1OC4",
        "outputId": "3c6e404d-6a80-463b-83d2-7f4556faf02f"
      },
      "execution_count": null,
      "outputs": [
        {
          "output_type": "execute_result",
          "data": {
            "text/plain": [
              "      customer_id  credit_score  country  gender  age  tenure    balance  \\\n",
              "3234     15664907           527   France    Male   47       1       0.00   \n",
              "8912     15637354           623   France  Female   24       7  148167.83   \n",
              "5325     15599126           529   France  Female   43       0  123815.86   \n",
              "8532     15780805           585   France  Female   35       2       0.00   \n",
              "3954     15758755           729   France  Female   34       9  132121.71   \n",
              "6955     15697042           738    Spain    Male   35       8  127290.61   \n",
              "343      15684484           543   France    Male   22       8       0.00   \n",
              "1702     15713644           686    Spain    Male   22       5       0.00   \n",
              "5499     15649078           850  Germany  Female   27       8  111837.78   \n",
              "5905     15731519           511   France  Female   30       5       0.00   \n",
              "\n",
              "      products_number  credit_card  active_member  estimated_salary  churn  \n",
              "3234                1            1              0          21312.16      1  \n",
              "8912                2            1              1         109470.34      0  \n",
              "5325                1            1              1          78463.99      1  \n",
              "8532                2            1              0          98621.04      1  \n",
              "3954                1            0              1         105409.31      0  \n",
              "6955                1            1              0          16081.62      0  \n",
              "343                 2            0              0         127587.22      0  \n",
              "1702                2            1              0         158974.45      0  \n",
              "5499                2            1              1         110805.79      0  \n",
              "5905                2            1              0         143994.86      0  "
            ],
            "text/html": [
              "\n",
              "  <div id=\"df-0539a3a6-1e2d-49c3-b72f-b8f924717dc9\" class=\"colab-df-container\">\n",
              "    <div>\n",
              "<style scoped>\n",
              "    .dataframe tbody tr th:only-of-type {\n",
              "        vertical-align: middle;\n",
              "    }\n",
              "\n",
              "    .dataframe tbody tr th {\n",
              "        vertical-align: top;\n",
              "    }\n",
              "\n",
              "    .dataframe thead th {\n",
              "        text-align: right;\n",
              "    }\n",
              "</style>\n",
              "<table border=\"1\" class=\"dataframe\">\n",
              "  <thead>\n",
              "    <tr style=\"text-align: right;\">\n",
              "      <th></th>\n",
              "      <th>customer_id</th>\n",
              "      <th>credit_score</th>\n",
              "      <th>country</th>\n",
              "      <th>gender</th>\n",
              "      <th>age</th>\n",
              "      <th>tenure</th>\n",
              "      <th>balance</th>\n",
              "      <th>products_number</th>\n",
              "      <th>credit_card</th>\n",
              "      <th>active_member</th>\n",
              "      <th>estimated_salary</th>\n",
              "      <th>churn</th>\n",
              "    </tr>\n",
              "  </thead>\n",
              "  <tbody>\n",
              "    <tr>\n",
              "      <th>3234</th>\n",
              "      <td>15664907</td>\n",
              "      <td>527</td>\n",
              "      <td>France</td>\n",
              "      <td>Male</td>\n",
              "      <td>47</td>\n",
              "      <td>1</td>\n",
              "      <td>0.00</td>\n",
              "      <td>1</td>\n",
              "      <td>1</td>\n",
              "      <td>0</td>\n",
              "      <td>21312.16</td>\n",
              "      <td>1</td>\n",
              "    </tr>\n",
              "    <tr>\n",
              "      <th>8912</th>\n",
              "      <td>15637354</td>\n",
              "      <td>623</td>\n",
              "      <td>France</td>\n",
              "      <td>Female</td>\n",
              "      <td>24</td>\n",
              "      <td>7</td>\n",
              "      <td>148167.83</td>\n",
              "      <td>2</td>\n",
              "      <td>1</td>\n",
              "      <td>1</td>\n",
              "      <td>109470.34</td>\n",
              "      <td>0</td>\n",
              "    </tr>\n",
              "    <tr>\n",
              "      <th>5325</th>\n",
              "      <td>15599126</td>\n",
              "      <td>529</td>\n",
              "      <td>France</td>\n",
              "      <td>Female</td>\n",
              "      <td>43</td>\n",
              "      <td>0</td>\n",
              "      <td>123815.86</td>\n",
              "      <td>1</td>\n",
              "      <td>1</td>\n",
              "      <td>1</td>\n",
              "      <td>78463.99</td>\n",
              "      <td>1</td>\n",
              "    </tr>\n",
              "    <tr>\n",
              "      <th>8532</th>\n",
              "      <td>15780805</td>\n",
              "      <td>585</td>\n",
              "      <td>France</td>\n",
              "      <td>Female</td>\n",
              "      <td>35</td>\n",
              "      <td>2</td>\n",
              "      <td>0.00</td>\n",
              "      <td>2</td>\n",
              "      <td>1</td>\n",
              "      <td>0</td>\n",
              "      <td>98621.04</td>\n",
              "      <td>1</td>\n",
              "    </tr>\n",
              "    <tr>\n",
              "      <th>3954</th>\n",
              "      <td>15758755</td>\n",
              "      <td>729</td>\n",
              "      <td>France</td>\n",
              "      <td>Female</td>\n",
              "      <td>34</td>\n",
              "      <td>9</td>\n",
              "      <td>132121.71</td>\n",
              "      <td>1</td>\n",
              "      <td>0</td>\n",
              "      <td>1</td>\n",
              "      <td>105409.31</td>\n",
              "      <td>0</td>\n",
              "    </tr>\n",
              "    <tr>\n",
              "      <th>6955</th>\n",
              "      <td>15697042</td>\n",
              "      <td>738</td>\n",
              "      <td>Spain</td>\n",
              "      <td>Male</td>\n",
              "      <td>35</td>\n",
              "      <td>8</td>\n",
              "      <td>127290.61</td>\n",
              "      <td>1</td>\n",
              "      <td>1</td>\n",
              "      <td>0</td>\n",
              "      <td>16081.62</td>\n",
              "      <td>0</td>\n",
              "    </tr>\n",
              "    <tr>\n",
              "      <th>343</th>\n",
              "      <td>15684484</td>\n",
              "      <td>543</td>\n",
              "      <td>France</td>\n",
              "      <td>Male</td>\n",
              "      <td>22</td>\n",
              "      <td>8</td>\n",
              "      <td>0.00</td>\n",
              "      <td>2</td>\n",
              "      <td>0</td>\n",
              "      <td>0</td>\n",
              "      <td>127587.22</td>\n",
              "      <td>0</td>\n",
              "    </tr>\n",
              "    <tr>\n",
              "      <th>1702</th>\n",
              "      <td>15713644</td>\n",
              "      <td>686</td>\n",
              "      <td>Spain</td>\n",
              "      <td>Male</td>\n",
              "      <td>22</td>\n",
              "      <td>5</td>\n",
              "      <td>0.00</td>\n",
              "      <td>2</td>\n",
              "      <td>1</td>\n",
              "      <td>0</td>\n",
              "      <td>158974.45</td>\n",
              "      <td>0</td>\n",
              "    </tr>\n",
              "    <tr>\n",
              "      <th>5499</th>\n",
              "      <td>15649078</td>\n",
              "      <td>850</td>\n",
              "      <td>Germany</td>\n",
              "      <td>Female</td>\n",
              "      <td>27</td>\n",
              "      <td>8</td>\n",
              "      <td>111837.78</td>\n",
              "      <td>2</td>\n",
              "      <td>1</td>\n",
              "      <td>1</td>\n",
              "      <td>110805.79</td>\n",
              "      <td>0</td>\n",
              "    </tr>\n",
              "    <tr>\n",
              "      <th>5905</th>\n",
              "      <td>15731519</td>\n",
              "      <td>511</td>\n",
              "      <td>France</td>\n",
              "      <td>Female</td>\n",
              "      <td>30</td>\n",
              "      <td>5</td>\n",
              "      <td>0.00</td>\n",
              "      <td>2</td>\n",
              "      <td>1</td>\n",
              "      <td>0</td>\n",
              "      <td>143994.86</td>\n",
              "      <td>0</td>\n",
              "    </tr>\n",
              "  </tbody>\n",
              "</table>\n",
              "</div>\n",
              "    <div class=\"colab-df-buttons\">\n",
              "\n",
              "  <div class=\"colab-df-container\">\n",
              "    <button class=\"colab-df-convert\" onclick=\"convertToInteractive('df-0539a3a6-1e2d-49c3-b72f-b8f924717dc9')\"\n",
              "            title=\"Convert this dataframe to an interactive table.\"\n",
              "            style=\"display:none;\">\n",
              "\n",
              "  <svg xmlns=\"http://www.w3.org/2000/svg\" height=\"24px\" viewBox=\"0 -960 960 960\">\n",
              "    <path d=\"M120-120v-720h720v720H120Zm60-500h600v-160H180v160Zm220 220h160v-160H400v160Zm0 220h160v-160H400v160ZM180-400h160v-160H180v160Zm440 0h160v-160H620v160ZM180-180h160v-160H180v160Zm440 0h160v-160H620v160Z\"/>\n",
              "  </svg>\n",
              "    </button>\n",
              "\n",
              "  <style>\n",
              "    .colab-df-container {\n",
              "      display:flex;\n",
              "      gap: 12px;\n",
              "    }\n",
              "\n",
              "    .colab-df-convert {\n",
              "      background-color: #E8F0FE;\n",
              "      border: none;\n",
              "      border-radius: 50%;\n",
              "      cursor: pointer;\n",
              "      display: none;\n",
              "      fill: #1967D2;\n",
              "      height: 32px;\n",
              "      padding: 0 0 0 0;\n",
              "      width: 32px;\n",
              "    }\n",
              "\n",
              "    .colab-df-convert:hover {\n",
              "      background-color: #E2EBFA;\n",
              "      box-shadow: 0px 1px 2px rgba(60, 64, 67, 0.3), 0px 1px 3px 1px rgba(60, 64, 67, 0.15);\n",
              "      fill: #174EA6;\n",
              "    }\n",
              "\n",
              "    .colab-df-buttons div {\n",
              "      margin-bottom: 4px;\n",
              "    }\n",
              "\n",
              "    [theme=dark] .colab-df-convert {\n",
              "      background-color: #3B4455;\n",
              "      fill: #D2E3FC;\n",
              "    }\n",
              "\n",
              "    [theme=dark] .colab-df-convert:hover {\n",
              "      background-color: #434B5C;\n",
              "      box-shadow: 0px 1px 3px 1px rgba(0, 0, 0, 0.15);\n",
              "      filter: drop-shadow(0px 1px 2px rgba(0, 0, 0, 0.3));\n",
              "      fill: #FFFFFF;\n",
              "    }\n",
              "  </style>\n",
              "\n",
              "    <script>\n",
              "      const buttonEl =\n",
              "        document.querySelector('#df-0539a3a6-1e2d-49c3-b72f-b8f924717dc9 button.colab-df-convert');\n",
              "      buttonEl.style.display =\n",
              "        google.colab.kernel.accessAllowed ? 'block' : 'none';\n",
              "\n",
              "      async function convertToInteractive(key) {\n",
              "        const element = document.querySelector('#df-0539a3a6-1e2d-49c3-b72f-b8f924717dc9');\n",
              "        const dataTable =\n",
              "          await google.colab.kernel.invokeFunction('convertToInteractive',\n",
              "                                                    [key], {});\n",
              "        if (!dataTable) return;\n",
              "\n",
              "        const docLinkHtml = 'Like what you see? Visit the ' +\n",
              "          '<a target=\"_blank\" href=https://colab.research.google.com/notebooks/data_table.ipynb>data table notebook</a>'\n",
              "          + ' to learn more about interactive tables.';\n",
              "        element.innerHTML = '';\n",
              "        dataTable['output_type'] = 'display_data';\n",
              "        await google.colab.output.renderOutput(dataTable, element);\n",
              "        const docLink = document.createElement('div');\n",
              "        docLink.innerHTML = docLinkHtml;\n",
              "        element.appendChild(docLink);\n",
              "      }\n",
              "    </script>\n",
              "  </div>\n",
              "\n",
              "\n",
              "<div id=\"df-a9b4e0bc-050f-4237-8380-8d17fd6dabeb\">\n",
              "  <button class=\"colab-df-quickchart\" onclick=\"quickchart('df-a9b4e0bc-050f-4237-8380-8d17fd6dabeb')\"\n",
              "            title=\"Suggest charts.\"\n",
              "            style=\"display:none;\">\n",
              "\n",
              "<svg xmlns=\"http://www.w3.org/2000/svg\" height=\"24px\"viewBox=\"0 0 24 24\"\n",
              "     width=\"24px\">\n",
              "    <g>\n",
              "        <path d=\"M19 3H5c-1.1 0-2 .9-2 2v14c0 1.1.9 2 2 2h14c1.1 0 2-.9 2-2V5c0-1.1-.9-2-2-2zM9 17H7v-7h2v7zm4 0h-2V7h2v10zm4 0h-2v-4h2v4z\"/>\n",
              "    </g>\n",
              "</svg>\n",
              "  </button>\n",
              "\n",
              "<style>\n",
              "  .colab-df-quickchart {\n",
              "      --bg-color: #E8F0FE;\n",
              "      --fill-color: #1967D2;\n",
              "      --hover-bg-color: #E2EBFA;\n",
              "      --hover-fill-color: #174EA6;\n",
              "      --disabled-fill-color: #AAA;\n",
              "      --disabled-bg-color: #DDD;\n",
              "  }\n",
              "\n",
              "  [theme=dark] .colab-df-quickchart {\n",
              "      --bg-color: #3B4455;\n",
              "      --fill-color: #D2E3FC;\n",
              "      --hover-bg-color: #434B5C;\n",
              "      --hover-fill-color: #FFFFFF;\n",
              "      --disabled-bg-color: #3B4455;\n",
              "      --disabled-fill-color: #666;\n",
              "  }\n",
              "\n",
              "  .colab-df-quickchart {\n",
              "    background-color: var(--bg-color);\n",
              "    border: none;\n",
              "    border-radius: 50%;\n",
              "    cursor: pointer;\n",
              "    display: none;\n",
              "    fill: var(--fill-color);\n",
              "    height: 32px;\n",
              "    padding: 0;\n",
              "    width: 32px;\n",
              "  }\n",
              "\n",
              "  .colab-df-quickchart:hover {\n",
              "    background-color: var(--hover-bg-color);\n",
              "    box-shadow: 0 1px 2px rgba(60, 64, 67, 0.3), 0 1px 3px 1px rgba(60, 64, 67, 0.15);\n",
              "    fill: var(--button-hover-fill-color);\n",
              "  }\n",
              "\n",
              "  .colab-df-quickchart-complete:disabled,\n",
              "  .colab-df-quickchart-complete:disabled:hover {\n",
              "    background-color: var(--disabled-bg-color);\n",
              "    fill: var(--disabled-fill-color);\n",
              "    box-shadow: none;\n",
              "  }\n",
              "\n",
              "  .colab-df-spinner {\n",
              "    border: 2px solid var(--fill-color);\n",
              "    border-color: transparent;\n",
              "    border-bottom-color: var(--fill-color);\n",
              "    animation:\n",
              "      spin 1s steps(1) infinite;\n",
              "  }\n",
              "\n",
              "  @keyframes spin {\n",
              "    0% {\n",
              "      border-color: transparent;\n",
              "      border-bottom-color: var(--fill-color);\n",
              "      border-left-color: var(--fill-color);\n",
              "    }\n",
              "    20% {\n",
              "      border-color: transparent;\n",
              "      border-left-color: var(--fill-color);\n",
              "      border-top-color: var(--fill-color);\n",
              "    }\n",
              "    30% {\n",
              "      border-color: transparent;\n",
              "      border-left-color: var(--fill-color);\n",
              "      border-top-color: var(--fill-color);\n",
              "      border-right-color: var(--fill-color);\n",
              "    }\n",
              "    40% {\n",
              "      border-color: transparent;\n",
              "      border-right-color: var(--fill-color);\n",
              "      border-top-color: var(--fill-color);\n",
              "    }\n",
              "    60% {\n",
              "      border-color: transparent;\n",
              "      border-right-color: var(--fill-color);\n",
              "    }\n",
              "    80% {\n",
              "      border-color: transparent;\n",
              "      border-right-color: var(--fill-color);\n",
              "      border-bottom-color: var(--fill-color);\n",
              "    }\n",
              "    90% {\n",
              "      border-color: transparent;\n",
              "      border-bottom-color: var(--fill-color);\n",
              "    }\n",
              "  }\n",
              "</style>\n",
              "\n",
              "  <script>\n",
              "    async function quickchart(key) {\n",
              "      const quickchartButtonEl =\n",
              "        document.querySelector('#' + key + ' button');\n",
              "      quickchartButtonEl.disabled = true;  // To prevent multiple clicks.\n",
              "      quickchartButtonEl.classList.add('colab-df-spinner');\n",
              "      try {\n",
              "        const charts = await google.colab.kernel.invokeFunction(\n",
              "            'suggestCharts', [key], {});\n",
              "      } catch (error) {\n",
              "        console.error('Error during call to suggestCharts:', error);\n",
              "      }\n",
              "      quickchartButtonEl.classList.remove('colab-df-spinner');\n",
              "      quickchartButtonEl.classList.add('colab-df-quickchart-complete');\n",
              "    }\n",
              "    (() => {\n",
              "      let quickchartButtonEl =\n",
              "        document.querySelector('#df-a9b4e0bc-050f-4237-8380-8d17fd6dabeb button');\n",
              "      quickchartButtonEl.style.display =\n",
              "        google.colab.kernel.accessAllowed ? 'block' : 'none';\n",
              "    })();\n",
              "  </script>\n",
              "</div>\n",
              "    </div>\n",
              "  </div>\n"
            ]
          },
          "metadata": {},
          "execution_count": 3
        }
      ]
    },
    {
      "cell_type": "code",
      "source": [
        "display(df.describe())\n",
        "display(df.describe(include = 'O'))"
      ],
      "metadata": {
        "id": "scUrKpZlHF5O",
        "colab": {
          "base_uri": "https://localhost:8080/",
          "height": 478
        },
        "outputId": "e29fa053-54e1-492d-dec5-4ffe4df8d59f"
      },
      "execution_count": null,
      "outputs": [
        {
          "output_type": "display_data",
          "data": {
            "text/plain": [
              "        customer_id  credit_score           age        tenure        balance  \\\n",
              "count  1.000000e+04  10000.000000  10000.000000  10000.000000   10000.000000   \n",
              "mean   1.569094e+07    650.528800     38.921800      5.012800   76485.889288   \n",
              "std    7.193619e+04     96.653299     10.487806      2.892174   62397.405202   \n",
              "min    1.556570e+07    350.000000     18.000000      0.000000       0.000000   \n",
              "25%    1.562853e+07    584.000000     32.000000      3.000000       0.000000   \n",
              "50%    1.569074e+07    652.000000     37.000000      5.000000   97198.540000   \n",
              "75%    1.575323e+07    718.000000     44.000000      7.000000  127644.240000   \n",
              "max    1.581569e+07    850.000000     92.000000     10.000000  250898.090000   \n",
              "\n",
              "       products_number  credit_card  active_member  estimated_salary  \\\n",
              "count     10000.000000  10000.00000   10000.000000      10000.000000   \n",
              "mean          1.530200      0.70550       0.515100     100090.239881   \n",
              "std           0.581654      0.45584       0.499797      57510.492818   \n",
              "min           1.000000      0.00000       0.000000         11.580000   \n",
              "25%           1.000000      0.00000       0.000000      51002.110000   \n",
              "50%           1.000000      1.00000       1.000000     100193.915000   \n",
              "75%           2.000000      1.00000       1.000000     149388.247500   \n",
              "max           4.000000      1.00000       1.000000     199992.480000   \n",
              "\n",
              "              churn  \n",
              "count  10000.000000  \n",
              "mean       0.203700  \n",
              "std        0.402769  \n",
              "min        0.000000  \n",
              "25%        0.000000  \n",
              "50%        0.000000  \n",
              "75%        0.000000  \n",
              "max        1.000000  "
            ],
            "text/html": [
              "\n",
              "  <div id=\"df-4d8c7de4-d6f6-44a4-aa18-efbbb0ac01ff\" class=\"colab-df-container\">\n",
              "    <div>\n",
              "<style scoped>\n",
              "    .dataframe tbody tr th:only-of-type {\n",
              "        vertical-align: middle;\n",
              "    }\n",
              "\n",
              "    .dataframe tbody tr th {\n",
              "        vertical-align: top;\n",
              "    }\n",
              "\n",
              "    .dataframe thead th {\n",
              "        text-align: right;\n",
              "    }\n",
              "</style>\n",
              "<table border=\"1\" class=\"dataframe\">\n",
              "  <thead>\n",
              "    <tr style=\"text-align: right;\">\n",
              "      <th></th>\n",
              "      <th>customer_id</th>\n",
              "      <th>credit_score</th>\n",
              "      <th>age</th>\n",
              "      <th>tenure</th>\n",
              "      <th>balance</th>\n",
              "      <th>products_number</th>\n",
              "      <th>credit_card</th>\n",
              "      <th>active_member</th>\n",
              "      <th>estimated_salary</th>\n",
              "      <th>churn</th>\n",
              "    </tr>\n",
              "  </thead>\n",
              "  <tbody>\n",
              "    <tr>\n",
              "      <th>count</th>\n",
              "      <td>1.000000e+04</td>\n",
              "      <td>10000.000000</td>\n",
              "      <td>10000.000000</td>\n",
              "      <td>10000.000000</td>\n",
              "      <td>10000.000000</td>\n",
              "      <td>10000.000000</td>\n",
              "      <td>10000.00000</td>\n",
              "      <td>10000.000000</td>\n",
              "      <td>10000.000000</td>\n",
              "      <td>10000.000000</td>\n",
              "    </tr>\n",
              "    <tr>\n",
              "      <th>mean</th>\n",
              "      <td>1.569094e+07</td>\n",
              "      <td>650.528800</td>\n",
              "      <td>38.921800</td>\n",
              "      <td>5.012800</td>\n",
              "      <td>76485.889288</td>\n",
              "      <td>1.530200</td>\n",
              "      <td>0.70550</td>\n",
              "      <td>0.515100</td>\n",
              "      <td>100090.239881</td>\n",
              "      <td>0.203700</td>\n",
              "    </tr>\n",
              "    <tr>\n",
              "      <th>std</th>\n",
              "      <td>7.193619e+04</td>\n",
              "      <td>96.653299</td>\n",
              "      <td>10.487806</td>\n",
              "      <td>2.892174</td>\n",
              "      <td>62397.405202</td>\n",
              "      <td>0.581654</td>\n",
              "      <td>0.45584</td>\n",
              "      <td>0.499797</td>\n",
              "      <td>57510.492818</td>\n",
              "      <td>0.402769</td>\n",
              "    </tr>\n",
              "    <tr>\n",
              "      <th>min</th>\n",
              "      <td>1.556570e+07</td>\n",
              "      <td>350.000000</td>\n",
              "      <td>18.000000</td>\n",
              "      <td>0.000000</td>\n",
              "      <td>0.000000</td>\n",
              "      <td>1.000000</td>\n",
              "      <td>0.00000</td>\n",
              "      <td>0.000000</td>\n",
              "      <td>11.580000</td>\n",
              "      <td>0.000000</td>\n",
              "    </tr>\n",
              "    <tr>\n",
              "      <th>25%</th>\n",
              "      <td>1.562853e+07</td>\n",
              "      <td>584.000000</td>\n",
              "      <td>32.000000</td>\n",
              "      <td>3.000000</td>\n",
              "      <td>0.000000</td>\n",
              "      <td>1.000000</td>\n",
              "      <td>0.00000</td>\n",
              "      <td>0.000000</td>\n",
              "      <td>51002.110000</td>\n",
              "      <td>0.000000</td>\n",
              "    </tr>\n",
              "    <tr>\n",
              "      <th>50%</th>\n",
              "      <td>1.569074e+07</td>\n",
              "      <td>652.000000</td>\n",
              "      <td>37.000000</td>\n",
              "      <td>5.000000</td>\n",
              "      <td>97198.540000</td>\n",
              "      <td>1.000000</td>\n",
              "      <td>1.00000</td>\n",
              "      <td>1.000000</td>\n",
              "      <td>100193.915000</td>\n",
              "      <td>0.000000</td>\n",
              "    </tr>\n",
              "    <tr>\n",
              "      <th>75%</th>\n",
              "      <td>1.575323e+07</td>\n",
              "      <td>718.000000</td>\n",
              "      <td>44.000000</td>\n",
              "      <td>7.000000</td>\n",
              "      <td>127644.240000</td>\n",
              "      <td>2.000000</td>\n",
              "      <td>1.00000</td>\n",
              "      <td>1.000000</td>\n",
              "      <td>149388.247500</td>\n",
              "      <td>0.000000</td>\n",
              "    </tr>\n",
              "    <tr>\n",
              "      <th>max</th>\n",
              "      <td>1.581569e+07</td>\n",
              "      <td>850.000000</td>\n",
              "      <td>92.000000</td>\n",
              "      <td>10.000000</td>\n",
              "      <td>250898.090000</td>\n",
              "      <td>4.000000</td>\n",
              "      <td>1.00000</td>\n",
              "      <td>1.000000</td>\n",
              "      <td>199992.480000</td>\n",
              "      <td>1.000000</td>\n",
              "    </tr>\n",
              "  </tbody>\n",
              "</table>\n",
              "</div>\n",
              "    <div class=\"colab-df-buttons\">\n",
              "\n",
              "  <div class=\"colab-df-container\">\n",
              "    <button class=\"colab-df-convert\" onclick=\"convertToInteractive('df-4d8c7de4-d6f6-44a4-aa18-efbbb0ac01ff')\"\n",
              "            title=\"Convert this dataframe to an interactive table.\"\n",
              "            style=\"display:none;\">\n",
              "\n",
              "  <svg xmlns=\"http://www.w3.org/2000/svg\" height=\"24px\" viewBox=\"0 -960 960 960\">\n",
              "    <path d=\"M120-120v-720h720v720H120Zm60-500h600v-160H180v160Zm220 220h160v-160H400v160Zm0 220h160v-160H400v160ZM180-400h160v-160H180v160Zm440 0h160v-160H620v160ZM180-180h160v-160H180v160Zm440 0h160v-160H620v160Z\"/>\n",
              "  </svg>\n",
              "    </button>\n",
              "\n",
              "  <style>\n",
              "    .colab-df-container {\n",
              "      display:flex;\n",
              "      gap: 12px;\n",
              "    }\n",
              "\n",
              "    .colab-df-convert {\n",
              "      background-color: #E8F0FE;\n",
              "      border: none;\n",
              "      border-radius: 50%;\n",
              "      cursor: pointer;\n",
              "      display: none;\n",
              "      fill: #1967D2;\n",
              "      height: 32px;\n",
              "      padding: 0 0 0 0;\n",
              "      width: 32px;\n",
              "    }\n",
              "\n",
              "    .colab-df-convert:hover {\n",
              "      background-color: #E2EBFA;\n",
              "      box-shadow: 0px 1px 2px rgba(60, 64, 67, 0.3), 0px 1px 3px 1px rgba(60, 64, 67, 0.15);\n",
              "      fill: #174EA6;\n",
              "    }\n",
              "\n",
              "    .colab-df-buttons div {\n",
              "      margin-bottom: 4px;\n",
              "    }\n",
              "\n",
              "    [theme=dark] .colab-df-convert {\n",
              "      background-color: #3B4455;\n",
              "      fill: #D2E3FC;\n",
              "    }\n",
              "\n",
              "    [theme=dark] .colab-df-convert:hover {\n",
              "      background-color: #434B5C;\n",
              "      box-shadow: 0px 1px 3px 1px rgba(0, 0, 0, 0.15);\n",
              "      filter: drop-shadow(0px 1px 2px rgba(0, 0, 0, 0.3));\n",
              "      fill: #FFFFFF;\n",
              "    }\n",
              "  </style>\n",
              "\n",
              "    <script>\n",
              "      const buttonEl =\n",
              "        document.querySelector('#df-4d8c7de4-d6f6-44a4-aa18-efbbb0ac01ff button.colab-df-convert');\n",
              "      buttonEl.style.display =\n",
              "        google.colab.kernel.accessAllowed ? 'block' : 'none';\n",
              "\n",
              "      async function convertToInteractive(key) {\n",
              "        const element = document.querySelector('#df-4d8c7de4-d6f6-44a4-aa18-efbbb0ac01ff');\n",
              "        const dataTable =\n",
              "          await google.colab.kernel.invokeFunction('convertToInteractive',\n",
              "                                                    [key], {});\n",
              "        if (!dataTable) return;\n",
              "\n",
              "        const docLinkHtml = 'Like what you see? Visit the ' +\n",
              "          '<a target=\"_blank\" href=https://colab.research.google.com/notebooks/data_table.ipynb>data table notebook</a>'\n",
              "          + ' to learn more about interactive tables.';\n",
              "        element.innerHTML = '';\n",
              "        dataTable['output_type'] = 'display_data';\n",
              "        await google.colab.output.renderOutput(dataTable, element);\n",
              "        const docLink = document.createElement('div');\n",
              "        docLink.innerHTML = docLinkHtml;\n",
              "        element.appendChild(docLink);\n",
              "      }\n",
              "    </script>\n",
              "  </div>\n",
              "\n",
              "\n",
              "<div id=\"df-ecb1c013-75c4-412a-b10f-77c8635c649c\">\n",
              "  <button class=\"colab-df-quickchart\" onclick=\"quickchart('df-ecb1c013-75c4-412a-b10f-77c8635c649c')\"\n",
              "            title=\"Suggest charts.\"\n",
              "            style=\"display:none;\">\n",
              "\n",
              "<svg xmlns=\"http://www.w3.org/2000/svg\" height=\"24px\"viewBox=\"0 0 24 24\"\n",
              "     width=\"24px\">\n",
              "    <g>\n",
              "        <path d=\"M19 3H5c-1.1 0-2 .9-2 2v14c0 1.1.9 2 2 2h14c1.1 0 2-.9 2-2V5c0-1.1-.9-2-2-2zM9 17H7v-7h2v7zm4 0h-2V7h2v10zm4 0h-2v-4h2v4z\"/>\n",
              "    </g>\n",
              "</svg>\n",
              "  </button>\n",
              "\n",
              "<style>\n",
              "  .colab-df-quickchart {\n",
              "      --bg-color: #E8F0FE;\n",
              "      --fill-color: #1967D2;\n",
              "      --hover-bg-color: #E2EBFA;\n",
              "      --hover-fill-color: #174EA6;\n",
              "      --disabled-fill-color: #AAA;\n",
              "      --disabled-bg-color: #DDD;\n",
              "  }\n",
              "\n",
              "  [theme=dark] .colab-df-quickchart {\n",
              "      --bg-color: #3B4455;\n",
              "      --fill-color: #D2E3FC;\n",
              "      --hover-bg-color: #434B5C;\n",
              "      --hover-fill-color: #FFFFFF;\n",
              "      --disabled-bg-color: #3B4455;\n",
              "      --disabled-fill-color: #666;\n",
              "  }\n",
              "\n",
              "  .colab-df-quickchart {\n",
              "    background-color: var(--bg-color);\n",
              "    border: none;\n",
              "    border-radius: 50%;\n",
              "    cursor: pointer;\n",
              "    display: none;\n",
              "    fill: var(--fill-color);\n",
              "    height: 32px;\n",
              "    padding: 0;\n",
              "    width: 32px;\n",
              "  }\n",
              "\n",
              "  .colab-df-quickchart:hover {\n",
              "    background-color: var(--hover-bg-color);\n",
              "    box-shadow: 0 1px 2px rgba(60, 64, 67, 0.3), 0 1px 3px 1px rgba(60, 64, 67, 0.15);\n",
              "    fill: var(--button-hover-fill-color);\n",
              "  }\n",
              "\n",
              "  .colab-df-quickchart-complete:disabled,\n",
              "  .colab-df-quickchart-complete:disabled:hover {\n",
              "    background-color: var(--disabled-bg-color);\n",
              "    fill: var(--disabled-fill-color);\n",
              "    box-shadow: none;\n",
              "  }\n",
              "\n",
              "  .colab-df-spinner {\n",
              "    border: 2px solid var(--fill-color);\n",
              "    border-color: transparent;\n",
              "    border-bottom-color: var(--fill-color);\n",
              "    animation:\n",
              "      spin 1s steps(1) infinite;\n",
              "  }\n",
              "\n",
              "  @keyframes spin {\n",
              "    0% {\n",
              "      border-color: transparent;\n",
              "      border-bottom-color: var(--fill-color);\n",
              "      border-left-color: var(--fill-color);\n",
              "    }\n",
              "    20% {\n",
              "      border-color: transparent;\n",
              "      border-left-color: var(--fill-color);\n",
              "      border-top-color: var(--fill-color);\n",
              "    }\n",
              "    30% {\n",
              "      border-color: transparent;\n",
              "      border-left-color: var(--fill-color);\n",
              "      border-top-color: var(--fill-color);\n",
              "      border-right-color: var(--fill-color);\n",
              "    }\n",
              "    40% {\n",
              "      border-color: transparent;\n",
              "      border-right-color: var(--fill-color);\n",
              "      border-top-color: var(--fill-color);\n",
              "    }\n",
              "    60% {\n",
              "      border-color: transparent;\n",
              "      border-right-color: var(--fill-color);\n",
              "    }\n",
              "    80% {\n",
              "      border-color: transparent;\n",
              "      border-right-color: var(--fill-color);\n",
              "      border-bottom-color: var(--fill-color);\n",
              "    }\n",
              "    90% {\n",
              "      border-color: transparent;\n",
              "      border-bottom-color: var(--fill-color);\n",
              "    }\n",
              "  }\n",
              "</style>\n",
              "\n",
              "  <script>\n",
              "    async function quickchart(key) {\n",
              "      const quickchartButtonEl =\n",
              "        document.querySelector('#' + key + ' button');\n",
              "      quickchartButtonEl.disabled = true;  // To prevent multiple clicks.\n",
              "      quickchartButtonEl.classList.add('colab-df-spinner');\n",
              "      try {\n",
              "        const charts = await google.colab.kernel.invokeFunction(\n",
              "            'suggestCharts', [key], {});\n",
              "      } catch (error) {\n",
              "        console.error('Error during call to suggestCharts:', error);\n",
              "      }\n",
              "      quickchartButtonEl.classList.remove('colab-df-spinner');\n",
              "      quickchartButtonEl.classList.add('colab-df-quickchart-complete');\n",
              "    }\n",
              "    (() => {\n",
              "      let quickchartButtonEl =\n",
              "        document.querySelector('#df-ecb1c013-75c4-412a-b10f-77c8635c649c button');\n",
              "      quickchartButtonEl.style.display =\n",
              "        google.colab.kernel.accessAllowed ? 'block' : 'none';\n",
              "    })();\n",
              "  </script>\n",
              "</div>\n",
              "    </div>\n",
              "  </div>\n"
            ]
          },
          "metadata": {}
        },
        {
          "output_type": "display_data",
          "data": {
            "text/plain": [
              "       country gender\n",
              "count    10000  10000\n",
              "unique       3      2\n",
              "top     France   Male\n",
              "freq      5014   5457"
            ],
            "text/html": [
              "\n",
              "  <div id=\"df-261c21ad-d097-485a-84b3-f3712298f7a4\" class=\"colab-df-container\">\n",
              "    <div>\n",
              "<style scoped>\n",
              "    .dataframe tbody tr th:only-of-type {\n",
              "        vertical-align: middle;\n",
              "    }\n",
              "\n",
              "    .dataframe tbody tr th {\n",
              "        vertical-align: top;\n",
              "    }\n",
              "\n",
              "    .dataframe thead th {\n",
              "        text-align: right;\n",
              "    }\n",
              "</style>\n",
              "<table border=\"1\" class=\"dataframe\">\n",
              "  <thead>\n",
              "    <tr style=\"text-align: right;\">\n",
              "      <th></th>\n",
              "      <th>country</th>\n",
              "      <th>gender</th>\n",
              "    </tr>\n",
              "  </thead>\n",
              "  <tbody>\n",
              "    <tr>\n",
              "      <th>count</th>\n",
              "      <td>10000</td>\n",
              "      <td>10000</td>\n",
              "    </tr>\n",
              "    <tr>\n",
              "      <th>unique</th>\n",
              "      <td>3</td>\n",
              "      <td>2</td>\n",
              "    </tr>\n",
              "    <tr>\n",
              "      <th>top</th>\n",
              "      <td>France</td>\n",
              "      <td>Male</td>\n",
              "    </tr>\n",
              "    <tr>\n",
              "      <th>freq</th>\n",
              "      <td>5014</td>\n",
              "      <td>5457</td>\n",
              "    </tr>\n",
              "  </tbody>\n",
              "</table>\n",
              "</div>\n",
              "    <div class=\"colab-df-buttons\">\n",
              "\n",
              "  <div class=\"colab-df-container\">\n",
              "    <button class=\"colab-df-convert\" onclick=\"convertToInteractive('df-261c21ad-d097-485a-84b3-f3712298f7a4')\"\n",
              "            title=\"Convert this dataframe to an interactive table.\"\n",
              "            style=\"display:none;\">\n",
              "\n",
              "  <svg xmlns=\"http://www.w3.org/2000/svg\" height=\"24px\" viewBox=\"0 -960 960 960\">\n",
              "    <path d=\"M120-120v-720h720v720H120Zm60-500h600v-160H180v160Zm220 220h160v-160H400v160Zm0 220h160v-160H400v160ZM180-400h160v-160H180v160Zm440 0h160v-160H620v160ZM180-180h160v-160H180v160Zm440 0h160v-160H620v160Z\"/>\n",
              "  </svg>\n",
              "    </button>\n",
              "\n",
              "  <style>\n",
              "    .colab-df-container {\n",
              "      display:flex;\n",
              "      gap: 12px;\n",
              "    }\n",
              "\n",
              "    .colab-df-convert {\n",
              "      background-color: #E8F0FE;\n",
              "      border: none;\n",
              "      border-radius: 50%;\n",
              "      cursor: pointer;\n",
              "      display: none;\n",
              "      fill: #1967D2;\n",
              "      height: 32px;\n",
              "      padding: 0 0 0 0;\n",
              "      width: 32px;\n",
              "    }\n",
              "\n",
              "    .colab-df-convert:hover {\n",
              "      background-color: #E2EBFA;\n",
              "      box-shadow: 0px 1px 2px rgba(60, 64, 67, 0.3), 0px 1px 3px 1px rgba(60, 64, 67, 0.15);\n",
              "      fill: #174EA6;\n",
              "    }\n",
              "\n",
              "    .colab-df-buttons div {\n",
              "      margin-bottom: 4px;\n",
              "    }\n",
              "\n",
              "    [theme=dark] .colab-df-convert {\n",
              "      background-color: #3B4455;\n",
              "      fill: #D2E3FC;\n",
              "    }\n",
              "\n",
              "    [theme=dark] .colab-df-convert:hover {\n",
              "      background-color: #434B5C;\n",
              "      box-shadow: 0px 1px 3px 1px rgba(0, 0, 0, 0.15);\n",
              "      filter: drop-shadow(0px 1px 2px rgba(0, 0, 0, 0.3));\n",
              "      fill: #FFFFFF;\n",
              "    }\n",
              "  </style>\n",
              "\n",
              "    <script>\n",
              "      const buttonEl =\n",
              "        document.querySelector('#df-261c21ad-d097-485a-84b3-f3712298f7a4 button.colab-df-convert');\n",
              "      buttonEl.style.display =\n",
              "        google.colab.kernel.accessAllowed ? 'block' : 'none';\n",
              "\n",
              "      async function convertToInteractive(key) {\n",
              "        const element = document.querySelector('#df-261c21ad-d097-485a-84b3-f3712298f7a4');\n",
              "        const dataTable =\n",
              "          await google.colab.kernel.invokeFunction('convertToInteractive',\n",
              "                                                    [key], {});\n",
              "        if (!dataTable) return;\n",
              "\n",
              "        const docLinkHtml = 'Like what you see? Visit the ' +\n",
              "          '<a target=\"_blank\" href=https://colab.research.google.com/notebooks/data_table.ipynb>data table notebook</a>'\n",
              "          + ' to learn more about interactive tables.';\n",
              "        element.innerHTML = '';\n",
              "        dataTable['output_type'] = 'display_data';\n",
              "        await google.colab.output.renderOutput(dataTable, element);\n",
              "        const docLink = document.createElement('div');\n",
              "        docLink.innerHTML = docLinkHtml;\n",
              "        element.appendChild(docLink);\n",
              "      }\n",
              "    </script>\n",
              "  </div>\n",
              "\n",
              "\n",
              "<div id=\"df-68c1ab6c-b7af-4d73-b7c2-ced471985b45\">\n",
              "  <button class=\"colab-df-quickchart\" onclick=\"quickchart('df-68c1ab6c-b7af-4d73-b7c2-ced471985b45')\"\n",
              "            title=\"Suggest charts.\"\n",
              "            style=\"display:none;\">\n",
              "\n",
              "<svg xmlns=\"http://www.w3.org/2000/svg\" height=\"24px\"viewBox=\"0 0 24 24\"\n",
              "     width=\"24px\">\n",
              "    <g>\n",
              "        <path d=\"M19 3H5c-1.1 0-2 .9-2 2v14c0 1.1.9 2 2 2h14c1.1 0 2-.9 2-2V5c0-1.1-.9-2-2-2zM9 17H7v-7h2v7zm4 0h-2V7h2v10zm4 0h-2v-4h2v4z\"/>\n",
              "    </g>\n",
              "</svg>\n",
              "  </button>\n",
              "\n",
              "<style>\n",
              "  .colab-df-quickchart {\n",
              "      --bg-color: #E8F0FE;\n",
              "      --fill-color: #1967D2;\n",
              "      --hover-bg-color: #E2EBFA;\n",
              "      --hover-fill-color: #174EA6;\n",
              "      --disabled-fill-color: #AAA;\n",
              "      --disabled-bg-color: #DDD;\n",
              "  }\n",
              "\n",
              "  [theme=dark] .colab-df-quickchart {\n",
              "      --bg-color: #3B4455;\n",
              "      --fill-color: #D2E3FC;\n",
              "      --hover-bg-color: #434B5C;\n",
              "      --hover-fill-color: #FFFFFF;\n",
              "      --disabled-bg-color: #3B4455;\n",
              "      --disabled-fill-color: #666;\n",
              "  }\n",
              "\n",
              "  .colab-df-quickchart {\n",
              "    background-color: var(--bg-color);\n",
              "    border: none;\n",
              "    border-radius: 50%;\n",
              "    cursor: pointer;\n",
              "    display: none;\n",
              "    fill: var(--fill-color);\n",
              "    height: 32px;\n",
              "    padding: 0;\n",
              "    width: 32px;\n",
              "  }\n",
              "\n",
              "  .colab-df-quickchart:hover {\n",
              "    background-color: var(--hover-bg-color);\n",
              "    box-shadow: 0 1px 2px rgba(60, 64, 67, 0.3), 0 1px 3px 1px rgba(60, 64, 67, 0.15);\n",
              "    fill: var(--button-hover-fill-color);\n",
              "  }\n",
              "\n",
              "  .colab-df-quickchart-complete:disabled,\n",
              "  .colab-df-quickchart-complete:disabled:hover {\n",
              "    background-color: var(--disabled-bg-color);\n",
              "    fill: var(--disabled-fill-color);\n",
              "    box-shadow: none;\n",
              "  }\n",
              "\n",
              "  .colab-df-spinner {\n",
              "    border: 2px solid var(--fill-color);\n",
              "    border-color: transparent;\n",
              "    border-bottom-color: var(--fill-color);\n",
              "    animation:\n",
              "      spin 1s steps(1) infinite;\n",
              "  }\n",
              "\n",
              "  @keyframes spin {\n",
              "    0% {\n",
              "      border-color: transparent;\n",
              "      border-bottom-color: var(--fill-color);\n",
              "      border-left-color: var(--fill-color);\n",
              "    }\n",
              "    20% {\n",
              "      border-color: transparent;\n",
              "      border-left-color: var(--fill-color);\n",
              "      border-top-color: var(--fill-color);\n",
              "    }\n",
              "    30% {\n",
              "      border-color: transparent;\n",
              "      border-left-color: var(--fill-color);\n",
              "      border-top-color: var(--fill-color);\n",
              "      border-right-color: var(--fill-color);\n",
              "    }\n",
              "    40% {\n",
              "      border-color: transparent;\n",
              "      border-right-color: var(--fill-color);\n",
              "      border-top-color: var(--fill-color);\n",
              "    }\n",
              "    60% {\n",
              "      border-color: transparent;\n",
              "      border-right-color: var(--fill-color);\n",
              "    }\n",
              "    80% {\n",
              "      border-color: transparent;\n",
              "      border-right-color: var(--fill-color);\n",
              "      border-bottom-color: var(--fill-color);\n",
              "    }\n",
              "    90% {\n",
              "      border-color: transparent;\n",
              "      border-bottom-color: var(--fill-color);\n",
              "    }\n",
              "  }\n",
              "</style>\n",
              "\n",
              "  <script>\n",
              "    async function quickchart(key) {\n",
              "      const quickchartButtonEl =\n",
              "        document.querySelector('#' + key + ' button');\n",
              "      quickchartButtonEl.disabled = true;  // To prevent multiple clicks.\n",
              "      quickchartButtonEl.classList.add('colab-df-spinner');\n",
              "      try {\n",
              "        const charts = await google.colab.kernel.invokeFunction(\n",
              "            'suggestCharts', [key], {});\n",
              "      } catch (error) {\n",
              "        console.error('Error during call to suggestCharts:', error);\n",
              "      }\n",
              "      quickchartButtonEl.classList.remove('colab-df-spinner');\n",
              "      quickchartButtonEl.classList.add('colab-df-quickchart-complete');\n",
              "    }\n",
              "    (() => {\n",
              "      let quickchartButtonEl =\n",
              "        document.querySelector('#df-68c1ab6c-b7af-4d73-b7c2-ced471985b45 button');\n",
              "      quickchartButtonEl.style.display =\n",
              "        google.colab.kernel.accessAllowed ? 'block' : 'none';\n",
              "    })();\n",
              "  </script>\n",
              "</div>\n",
              "    </div>\n",
              "  </div>\n"
            ]
          },
          "metadata": {}
        }
      ]
    },
    {
      "cell_type": "code",
      "source": [
        "# xem các thông tin chung\n",
        "df.info()"
      ],
      "metadata": {
        "id": "_88sE-_BC7xQ",
        "colab": {
          "base_uri": "https://localhost:8080/"
        },
        "outputId": "7bd283e0-eadd-4c01-f621-35a55732209f"
      },
      "execution_count": null,
      "outputs": [
        {
          "output_type": "stream",
          "name": "stdout",
          "text": [
            "<class 'pandas.core.frame.DataFrame'>\n",
            "RangeIndex: 10000 entries, 0 to 9999\n",
            "Data columns (total 12 columns):\n",
            " #   Column            Non-Null Count  Dtype  \n",
            "---  ------            --------------  -----  \n",
            " 0   customer_id       10000 non-null  int64  \n",
            " 1   credit_score      10000 non-null  int64  \n",
            " 2   country           10000 non-null  object \n",
            " 3   gender            10000 non-null  object \n",
            " 4   age               10000 non-null  int64  \n",
            " 5   tenure            10000 non-null  int64  \n",
            " 6   balance           10000 non-null  float64\n",
            " 7   products_number   10000 non-null  int64  \n",
            " 8   credit_card       10000 non-null  int64  \n",
            " 9   active_member     10000 non-null  int64  \n",
            " 10  estimated_salary  10000 non-null  float64\n",
            " 11  churn             10000 non-null  int64  \n",
            "dtypes: float64(2), int64(8), object(2)\n",
            "memory usage: 937.6+ KB\n"
          ]
        }
      ]
    },
    {
      "cell_type": "code",
      "source": [
        "# kiểm tra null\n",
        "df.isnull().sum()"
      ],
      "metadata": {
        "colab": {
          "base_uri": "https://localhost:8080/"
        },
        "id": "LfL8D-TBTGd5",
        "outputId": "744d1070-6701-4c04-a779-dbfbe302b2df"
      },
      "execution_count": null,
      "outputs": [
        {
          "output_type": "execute_result",
          "data": {
            "text/plain": [
              "customer_id         0\n",
              "credit_score        0\n",
              "country             0\n",
              "gender              0\n",
              "age                 0\n",
              "tenure              0\n",
              "balance             0\n",
              "products_number     0\n",
              "credit_card         0\n",
              "active_member       0\n",
              "estimated_salary    0\n",
              "churn               0\n",
              "dtype: int64"
            ]
          },
          "metadata": {},
          "execution_count": 6
        }
      ]
    },
    {
      "cell_type": "markdown",
      "source": [
        "**Nhận xét:**\n",
        "\n",
        "* Dataset có 10000 hàng và 12 cột.\n",
        "* Cột `customer_id` không mang tính phân loại > drop.\n",
        "* Có 2 cột `gender` và `country` dạng text > encoding.\n",
        "* Không có cột nào bị null."
      ],
      "metadata": {
        "id": "mtCr1SsLOdn_"
      }
    },
    {
      "cell_type": "markdown",
      "source": [
        "## Make Hypothesis"
      ],
      "metadata": {
        "id": "WUfAbq2-U-pG"
      }
    },
    {
      "cell_type": "markdown",
      "source": [
        "### Univariate Analysis\n",
        "Số KH rời bỏ ít hơn nhiều so với số KH còn sử dụng dịch vụ?"
      ],
      "metadata": {
        "id": "rgAG9LumVPvc"
      }
    },
    {
      "cell_type": "code",
      "source": [
        "sns.countplot(x = 'churn', data = df)"
      ],
      "metadata": {
        "colab": {
          "base_uri": "https://localhost:8080/",
          "height": 466
        },
        "id": "czxH2CNqVmtg",
        "outputId": "04ca7561-1231-4e94-b523-d37cb71cfde1"
      },
      "execution_count": null,
      "outputs": [
        {
          "output_type": "execute_result",
          "data": {
            "text/plain": [
              "<Axes: xlabel='churn', ylabel='count'>"
            ]
          },
          "metadata": {},
          "execution_count": 7
        },
        {
          "output_type": "display_data",
          "data": {
            "text/plain": [
              "<Figure size 640x480 with 1 Axes>"
            ],
            "image/png": "[encoded data removed]"
          },
          "metadata": {}
        }
      ]
    },
    {
      "cell_type": "markdown",
      "source": [
        "**Nhận xét:**\n",
        "\n",
        "* Data bị imbalance nên cần xử lý trước khi thực hiện Modeling."
      ],
      "metadata": {
        "id": "gVD3um-5W82W"
      }
    },
    {
      "cell_type": "markdown",
      "source": [
        "### Bivariate Analysis\n",
        "1/ Số KH nữ rời bỏ nhiều hơn so với số KH nam?\n",
        "\n",
        "2/ Số KH rời bỏ ở các QG khác nhau là tương tự nhau?"
      ],
      "metadata": {
        "id": "EcNb5ULxWPVw"
      }
    },
    {
      "cell_type": "code",
      "source": [
        "sns.countplot(x = 'churn', hue = 'gender', data = df)"
      ],
      "metadata": {
        "colab": {
          "base_uri": "https://localhost:8080/",
          "height": 466
        },
        "outputId": "f373b9ee-95fa-481f-ee05-0575dc301ee3",
        "id": "r6tdZJbBWoCJ"
      },
      "execution_count": null,
      "outputs": [
        {
          "output_type": "execute_result",
          "data": {
            "text/plain": [
              "<Axes: xlabel='churn', ylabel='count'>"
            ]
          },
          "metadata": {},
          "execution_count": 8
        },
        {
          "output_type": "display_data",
          "data": {
            "text/plain": [
              "<Figure size 640x480 with 1 Axes>"
            ],
            "image/png": "[encoded data removed]"
          },
          "metadata": {}
        }
      ]
    },
    {
      "cell_type": "markdown",
      "source": [
        "**Nhận xét:**\n",
        "* Số lượng KH Nam (Male) sử dụng Dv của NH nhiều hơn Nữ (Female).\n",
        "\n",
        "* Số lượng KH Nữ rời bỏ nhiều hơn Nam."
      ],
      "metadata": {
        "id": "UH2RufHkZJmb"
      }
    },
    {
      "cell_type": "code",
      "source": [
        "sns.countplot(x = 'churn', hue = 'country', data = df)"
      ],
      "metadata": {
        "colab": {
          "base_uri": "https://localhost:8080/",
          "height": 466
        },
        "id": "hC8LyoObYTeq",
        "outputId": "d484ff04-4127-487a-a584-8067555f9f8e"
      },
      "execution_count": null,
      "outputs": [
        {
          "output_type": "execute_result",
          "data": {
            "text/plain": [
              "<Axes: xlabel='churn', ylabel='count'>"
            ]
          },
          "metadata": {},
          "execution_count": 9
        },
        {
          "output_type": "display_data",
          "data": {
            "text/plain": [
              "<Figure size 640x480 with 1 Axes>"
            ],
            "image/png": "[encoded data removed]"
          },
          "metadata": {}
        }
      ]
    },
    {
      "cell_type": "markdown",
      "source": [
        "**Nhận xét:**\n",
        "* Nước Đức (Germany) có tỷ lệ KH rời đi nhiều nhất so với Pháp (France) và Tây Ban Nha (Spain)."
      ],
      "metadata": {
        "id": "r3ueH5ifYx57"
      }
    },
    {
      "cell_type": "markdown",
      "source": [
        "### Correlation Analysis\n",
        "Phân tích tương quan giữa các cột dạng số còn lại trong dataset."
      ],
      "metadata": {
        "id": "c9in6Ow9Zzyw"
      }
    },
    {
      "cell_type": "code",
      "source": [
        "#  chỉnh lại size hình vẽ\n",
        "plt.figure(figsize=(6,5))\n",
        "\n",
        "# thực hiện vẽ heatmap có hiển thị số (2 chữ số thập phân) với màu 'coolwarm'\n",
        "sns.heatmap(df.corr(), annot=True, cmap='coolwarm', fmt=\".1f\")"
      ],
      "metadata": {
        "colab": {
          "base_uri": "https://localhost:8080/",
          "height": 631
        },
        "id": "a9QG_qjZaICL",
        "outputId": "85be9587-8745-4ff1-836c-97cd8b412c73"
      },
      "execution_count": null,
      "outputs": [
        {
          "output_type": "stream",
          "name": "stderr",
          "text": [
            "<ipython-input-10-8f63966f739d>:5: FutureWarning: The default value of numeric_only in DataFrame.corr is deprecated. In a future version, it will default to False. Select only valid columns or specify the value of numeric_only to silence this warning.\n",
            "  sns.heatmap(df.corr(), annot=True, cmap='coolwarm', fmt=\".1f\")\n"
          ]
        },
        {
          "output_type": "execute_result",
          "data": {
            "text/plain": [
              "<Axes: >"
            ]
          },
          "metadata": {},
          "execution_count": 10
        },
        {
          "output_type": "display_data",
          "data": {
            "text/plain": [
              "<Figure size 600x500 with 2 Axes>"
            ],
            "image/png": "[encoded data removed]"
          },
          "metadata": {}
        }
      ]
    },
    {
      "cell_type": "markdown",
      "source": [
        "**Nhận xét:**\n",
        "* Hai cột `Age` và `Balance` có ảnh hưởng tới `churn`.\n",
        "* Cột `active_member` có tương quan âm với `churn`.\n",
        "> Tiến hành modeling chỉ sử dụng 3 cột này để so sánh hiệu quả với khi dùng tất cả các cột."
      ],
      "metadata": {
        "id": "hSZShENNb-NW"
      }
    },
    {
      "cell_type": "markdown",
      "source": [
        "## Preprocessing"
      ],
      "metadata": {
        "id": "_AdOpbBYHQQt"
      }
    },
    {
      "cell_type": "markdown",
      "source": [
        "### Remove duplicates\n",
        "Loại bỏ các hàng bị trùng lặp nếu có."
      ],
      "metadata": {
        "id": "sQHm7dwkkBvo"
      }
    },
    {
      "cell_type": "code",
      "source": [
        "# kiểm tra dữ liệu có trùng lặp hay không\n",
        "df[df.duplicated()].shape"
      ],
      "metadata": {
        "colab": {
          "base_uri": "https://localhost:8080/"
        },
        "id": "gBkieNq-kLzc",
        "outputId": "c1b731a6-55ff-4712-98da-ec23fc2e5151"
      },
      "execution_count": null,
      "outputs": [
        {
          "output_type": "execute_result",
          "data": {
            "text/plain": [
              "(0, 12)"
            ]
          },
          "metadata": {},
          "execution_count": 11
        }
      ]
    },
    {
      "cell_type": "markdown",
      "source": [
        "Không có dữ liệu bị trùng lặp nên bỏ qua bước này."
      ],
      "metadata": {
        "id": "zEahqAlukq4f"
      }
    },
    {
      "cell_type": "markdown",
      "source": [
        "### Remove nonuse column\n",
        "Loại bỏ các cột không dùng."
      ],
      "metadata": {
        "id": "b03-q-w3hX2g"
      }
    },
    {
      "cell_type": "code",
      "source": [
        "# bỏ cột 'customer_id' khỏi data frame\n",
        "df = df.drop(columns = ['customer_id'])\n",
        "\n",
        "# kiểm tra\n",
        "df.columns"
      ],
      "metadata": {
        "colab": {
          "base_uri": "https://localhost:8080/"
        },
        "id": "qbKYTN7BjBau",
        "outputId": "55d73edc-73ae-4e11-c634-4e04b020a06c"
      },
      "execution_count": null,
      "outputs": [
        {
          "output_type": "execute_result",
          "data": {
            "text/plain": [
              "Index(['credit_score', 'country', 'gender', 'age', 'tenure', 'balance',\n",
              "       'products_number', 'credit_card', 'active_member', 'estimated_salary',\n",
              "       'churn'],\n",
              "      dtype='object')"
            ]
          },
          "metadata": {},
          "execution_count": 12
        }
      ]
    },
    {
      "cell_type": "markdown",
      "source": [
        "### Handle null\n",
        "Xử lý null trong dataset:\n",
        "* Nếu cột bị null quá nhiều -> bỏ cột.\n",
        "* Nếu cột bị null ít -> fill NaN (bằng Mean/Median cho dạng số hay Mode cho text)."
      ],
      "metadata": {
        "id": "jR0JK0c2HqEb"
      }
    },
    {
      "cell_type": "markdown",
      "source": [
        "Không có null trong dataset nên bỏ qua bước này."
      ],
      "metadata": {
        "id": "VGwl1xpunrFv"
      }
    },
    {
      "cell_type": "markdown",
      "source": [
        "### Encoding\n",
        "Chuyển data dạng text sang dạng số:\n",
        "- One Hot Encoding:\n",
        "  - Khoảng cách giữa các cặp giá trị là như nhau.\n",
        "  - Áp dụng khi số lượng giá trị distinct nhỏ.\n",
        "> Vd: Táo, Cam, Ổi.\n",
        "- Ordinal Encoding:\n",
        "  - Khoảng cách giữa các cặp giá trị là khác nhau.\n",
        "  - Áp dụng khi số lượng giá trị distinct lớn.\n",
        "> Vd: Fresher, Junior, Senior, Manager."
      ],
      "metadata": {
        "id": "FR6owZNpIJQq"
      }
    },
    {
      "cell_type": "markdown",
      "source": [
        "Do chỉ có 2 cột text `country` và `gender` kèm theo số lượng giá trị distinct mỗi cột ít (3 và 2) nên sử dụng One Hot Encoding."
      ],
      "metadata": {
        "id": "H_9DncCJ-QQo"
      }
    },
    {
      "cell_type": "code",
      "source": [
        "# thực hiện One Hot Encoder\n",
        "df = pd.get_dummies(df)\n",
        "# kiểm tra\n",
        "df.sample(10)"
      ],
      "metadata": {
        "id": "8BsuW3eD8DLC",
        "colab": {
          "base_uri": "https://localhost:8080/",
          "height": 383
        },
        "outputId": "b95f1e94-2a31-4db5-e21d-3b28257f5592"
      },
      "execution_count": null,
      "outputs": [
        {
          "output_type": "execute_result",
          "data": {
            "text/plain": [
              "      credit_score  age  tenure    balance  products_number  credit_card  \\\n",
              "3202           564   33       4  135946.26                1            1   \n",
              "7435           610   50       5  130554.51                3            1   \n",
              "3906           597   44       8   78128.13                2            0   \n",
              "7525           580   35       9  121355.19                1            0   \n",
              "5469           723   21       4       0.00                2            0   \n",
              "3983           626   44       2       0.00                1            0   \n",
              "8016           569   41       2       0.00                2            1   \n",
              "257            671   34       6   37266.67                2            0   \n",
              "3700           678   22       6  118064.93                2            1   \n",
              "3111           623   42       1  149332.48                2            1   \n",
              "\n",
              "      active_member  estimated_salary  churn  country_France  country_Germany  \\\n",
              "3202              0          63170.00      0               1                0   \n",
              "7435              0         184758.17      1               0                0   \n",
              "3906              1         109153.04      0               1                0   \n",
              "7525              1          35671.45      0               0                1   \n",
              "5469              0          24847.02      0               1                0   \n",
              "3983              1         173117.22      1               1                0   \n",
              "8016              0         134272.57      0               0                0   \n",
              "257               0         156917.12      0               0                1   \n",
              "3700              1         195424.01      0               1                0   \n",
              "3111              0         100834.22      0               0                1   \n",
              "\n",
              "      country_Spain  gender_Female  gender_Male  \n",
              "3202              0              1            0  \n",
              "7435              1              1            0  \n",
              "3906              0              0            1  \n",
              "7525              0              0            1  \n",
              "5469              0              0            1  \n",
              "3983              0              1            0  \n",
              "8016              1              0            1  \n",
              "257               0              1            0  \n",
              "3700              0              1            0  \n",
              "3111              0              0            1  "
            ],
            "text/html": [
              "\n",
              "  <div id=\"df-9a52673f-d24e-4606-a9cf-252f2f68c18e\" class=\"colab-df-container\">\n",
              "    <div>\n",
              "<style scoped>\n",
              "    .dataframe tbody tr th:only-of-type {\n",
              "        vertical-align: middle;\n",
              "    }\n",
              "\n",
              "    .dataframe tbody tr th {\n",
              "        vertical-align: top;\n",
              "    }\n",
              "\n",
              "    .dataframe thead th {\n",
              "        text-align: right;\n",
              "    }\n",
              "</style>\n",
              "<table border=\"1\" class=\"dataframe\">\n",
              "  <thead>\n",
              "    <tr style=\"text-align: right;\">\n",
              "      <th></th>\n",
              "      <th>credit_score</th>\n",
              "      <th>age</th>\n",
              "      <th>tenure</th>\n",
              "      <th>balance</th>\n",
              "      <th>products_number</th>\n",
              "      <th>credit_card</th>\n",
              "      <th>active_member</th>\n",
              "      <th>estimated_salary</th>\n",
              "      <th>churn</th>\n",
              "      <th>country_France</th>\n",
              "      <th>country_Germany</th>\n",
              "      <th>country_Spain</th>\n",
              "      <th>gender_Female</th>\n",
              "      <th>gender_Male</th>\n",
              "    </tr>\n",
              "  </thead>\n",
              "  <tbody>\n",
              "    <tr>\n",
              "      <th>3202</th>\n",
              "      <td>564</td>\n",
              "      <td>33</td>\n",
              "      <td>4</td>\n",
              "      <td>135946.26</td>\n",
              "      <td>1</td>\n",
              "      <td>1</td>\n",
              "      <td>0</td>\n",
              "      <td>63170.00</td>\n",
              "      <td>0</td>\n",
              "      <td>1</td>\n",
              "      <td>0</td>\n",
              "      <td>0</td>\n",
              "      <td>1</td>\n",
              "      <td>0</td>\n",
              "    </tr>\n",
              "    <tr>\n",
              "      <th>7435</th>\n",
              "      <td>610</td>\n",
              "      <td>50</td>\n",
              "      <td>5</td>\n",
              "      <td>130554.51</td>\n",
              "      <td>3</td>\n",
              "      <td>1</td>\n",
              "      <td>0</td>\n",
              "      <td>184758.17</td>\n",
              "      <td>1</td>\n",
              "      <td>0</td>\n",
              "      <td>0</td>\n",
              "      <td>1</td>\n",
              "      <td>1</td>\n",
              "      <td>0</td>\n",
              "    </tr>\n",
              "    <tr>\n",
              "      <th>3906</th>\n",
              "      <td>597</td>\n",
              "      <td>44</td>\n",
              "      <td>8</td>\n",
              "      <td>78128.13</td>\n",
              "      <td>2</td>\n",
              "      <td>0</td>\n",
              "      <td>1</td>\n",
              "      <td>109153.04</td>\n",
              "      <td>0</td>\n",
              "      <td>1</td>\n",
              "      <td>0</td>\n",
              "      <td>0</td>\n",
              "      <td>0</td>\n",
              "      <td>1</td>\n",
              "    </tr>\n",
              "    <tr>\n",
              "      <th>7525</th>\n",
              "      <td>580</td>\n",
              "      <td>35</td>\n",
              "      <td>9</td>\n",
              "      <td>121355.19</td>\n",
              "      <td>1</td>\n",
              "      <td>0</td>\n",
              "      <td>1</td>\n",
              "      <td>35671.45</td>\n",
              "      <td>0</td>\n",
              "      <td>0</td>\n",
              "      <td>1</td>\n",
              "      <td>0</td>\n",
              "      <td>0</td>\n",
              "      <td>1</td>\n",
              "    </tr>\n",
              "    <tr>\n",
              "      <th>5469</th>\n",
              "      <td>723</td>\n",
              "      <td>21</td>\n",
              "      <td>4</td>\n",
              "      <td>0.00</td>\n",
              "      <td>2</td>\n",
              "      <td>0</td>\n",
              "      <td>0</td>\n",
              "      <td>24847.02</td>\n",
              "      <td>0</td>\n",
              "      <td>1</td>\n",
              "      <td>0</td>\n",
              "      <td>0</td>\n",
              "      <td>0</td>\n",
              "      <td>1</td>\n",
              "    </tr>\n",
              "    <tr>\n",
              "      <th>3983</th>\n",
              "      <td>626</td>\n",
              "      <td>44</td>\n",
              "      <td>2</td>\n",
              "      <td>0.00</td>\n",
              "      <td>1</td>\n",
              "      <td>0</td>\n",
              "      <td>1</td>\n",
              "      <td>173117.22</td>\n",
              "      <td>1</td>\n",
              "      <td>1</td>\n",
              "      <td>0</td>\n",
              "      <td>0</td>\n",
              "      <td>1</td>\n",
              "      <td>0</td>\n",
              "    </tr>\n",
              "    <tr>\n",
              "      <th>8016</th>\n",
              "      <td>569</td>\n",
              "      <td>41</td>\n",
              "      <td>2</td>\n",
              "      <td>0.00</td>\n",
              "      <td>2</td>\n",
              "      <td>1</td>\n",
              "      <td>0</td>\n",
              "      <td>134272.57</td>\n",
              "      <td>0</td>\n",
              "      <td>0</td>\n",
              "      <td>0</td>\n",
              "      <td>1</td>\n",
              "      <td>0</td>\n",
              "      <td>1</td>\n",
              "    </tr>\n",
              "    <tr>\n",
              "      <th>257</th>\n",
              "      <td>671</td>\n",
              "      <td>34</td>\n",
              "      <td>6</td>\n",
              "      <td>37266.67</td>\n",
              "      <td>2</td>\n",
              "      <td>0</td>\n",
              "      <td>0</td>\n",
              "      <td>156917.12</td>\n",
              "      <td>0</td>\n",
              "      <td>0</td>\n",
              "      <td>1</td>\n",
              "      <td>0</td>\n",
              "      <td>1</td>\n",
              "      <td>0</td>\n",
              "    </tr>\n",
              "    <tr>\n",
              "      <th>3700</th>\n",
              "      <td>678</td>\n",
              "      <td>22</td>\n",
              "      <td>6</td>\n",
              "      <td>118064.93</td>\n",
              "      <td>2</td>\n",
              "      <td>1</td>\n",
              "      <td>1</td>\n",
              "      <td>195424.01</td>\n",
              "      <td>0</td>\n",
              "      <td>1</td>\n",
              "      <td>0</td>\n",
              "      <td>0</td>\n",
              "      <td>1</td>\n",
              "      <td>0</td>\n",
              "    </tr>\n",
              "    <tr>\n",
              "      <th>3111</th>\n",
              "      <td>623</td>\n",
              "      <td>42</td>\n",
              "      <td>1</td>\n",
              "      <td>149332.48</td>\n",
              "      <td>2</td>\n",
              "      <td>1</td>\n",
              "      <td>0</td>\n",
              "      <td>100834.22</td>\n",
              "      <td>0</td>\n",
              "      <td>0</td>\n",
              "      <td>1</td>\n",
              "      <td>0</td>\n",
              "      <td>0</td>\n",
              "      <td>1</td>\n",
              "    </tr>\n",
              "  </tbody>\n",
              "</table>\n",
              "</div>\n",
              "    <div class=\"colab-df-buttons\">\n",
              "\n",
              "  <div class=\"colab-df-container\">\n",
              "    <button class=\"colab-df-convert\" onclick=\"convertToInteractive('df-9a52673f-d24e-4606-a9cf-252f2f68c18e')\"\n",
              "            title=\"Convert this dataframe to an interactive table.\"\n",
              "            style=\"display:none;\">\n",
              "\n",
              "  <svg xmlns=\"http://www.w3.org/2000/svg\" height=\"24px\" viewBox=\"0 -960 960 960\">\n",
              "    <path d=\"M120-120v-720h720v720H120Zm60-500h600v-160H180v160Zm220 220h160v-160H400v160Zm0 220h160v-160H400v160ZM180-400h160v-160H180v160Zm440 0h160v-160H620v160ZM180-180h160v-160H180v160Zm440 0h160v-160H620v160Z\"/>\n",
              "  </svg>\n",
              "    </button>\n",
              "\n",
              "  <style>\n",
              "    .colab-df-container {\n",
              "      display:flex;\n",
              "      gap: 12px;\n",
              "    }\n",
              "\n",
              "    .colab-df-convert {\n",
              "      background-color: #E8F0FE;\n",
              "      border: none;\n",
              "      border-radius: 50%;\n",
              "      cursor: pointer;\n",
              "      display: none;\n",
              "      fill: #1967D2;\n",
              "      height: 32px;\n",
              "      padding: 0 0 0 0;\n",
              "      width: 32px;\n",
              "    }\n",
              "\n",
              "    .colab-df-convert:hover {\n",
              "      background-color: #E2EBFA;\n",
              "      box-shadow: 0px 1px 2px rgba(60, 64, 67, 0.3), 0px 1px 3px 1px rgba(60, 64, 67, 0.15);\n",
              "      fill: #174EA6;\n",
              "    }\n",
              "\n",
              "    .colab-df-buttons div {\n",
              "      margin-bottom: 4px;\n",
              "    }\n",
              "\n",
              "    [theme=dark] .colab-df-convert {\n",
              "      background-color: #3B4455;\n",
              "      fill: #D2E3FC;\n",
              "    }\n",
              "\n",
              "    [theme=dark] .colab-df-convert:hover {\n",
              "      background-color: #434B5C;\n",
              "      box-shadow: 0px 1px 3px 1px rgba(0, 0, 0, 0.15);\n",
              "      filter: drop-shadow(0px 1px 2px rgba(0, 0, 0, 0.3));\n",
              "      fill: #FFFFFF;\n",
              "    }\n",
              "  </style>\n",
              "\n",
              "    <script>\n",
              "      const buttonEl =\n",
              "        document.querySelector('#df-9a52673f-d24e-4606-a9cf-252f2f68c18e button.colab-df-convert');\n",
              "      buttonEl.style.display =\n",
              "        google.colab.kernel.accessAllowed ? 'block' : 'none';\n",
              "\n",
              "      async function convertToInteractive(key) {\n",
              "        const element = document.querySelector('#df-9a52673f-d24e-4606-a9cf-252f2f68c18e');\n",
              "        const dataTable =\n",
              "          await google.colab.kernel.invokeFunction('convertToInteractive',\n",
              "                                                    [key], {});\n",
              "        if (!dataTable) return;\n",
              "\n",
              "        const docLinkHtml = 'Like what you see? Visit the ' +\n",
              "          '<a target=\"_blank\" href=https://colab.research.google.com/notebooks/data_table.ipynb>data table notebook</a>'\n",
              "          + ' to learn more about interactive tables.';\n",
              "        element.innerHTML = '';\n",
              "        dataTable['output_type'] = 'display_data';\n",
              "        await google.colab.output.renderOutput(dataTable, element);\n",
              "        const docLink = document.createElement('div');\n",
              "        docLink.innerHTML = docLinkHtml;\n",
              "        element.appendChild(docLink);\n",
              "      }\n",
              "    </script>\n",
              "  </div>\n",
              "\n",
              "\n",
              "<div id=\"df-f30d6179-4a5a-4db5-8599-e55e089ebc9b\">\n",
              "  <button class=\"colab-df-quickchart\" onclick=\"quickchart('df-f30d6179-4a5a-4db5-8599-e55e089ebc9b')\"\n",
              "            title=\"Suggest charts.\"\n",
              "            style=\"display:none;\">\n",
              "\n",
              "<svg xmlns=\"http://www.w3.org/2000/svg\" height=\"24px\"viewBox=\"0 0 24 24\"\n",
              "     width=\"24px\">\n",
              "    <g>\n",
              "        <path d=\"M19 3H5c-1.1 0-2 .9-2 2v14c0 1.1.9 2 2 2h14c1.1 0 2-.9 2-2V5c0-1.1-.9-2-2-2zM9 17H7v-7h2v7zm4 0h-2V7h2v10zm4 0h-2v-4h2v4z\"/>\n",
              "    </g>\n",
              "</svg>\n",
              "  </button>\n",
              "\n",
              "<style>\n",
              "  .colab-df-quickchart {\n",
              "      --bg-color: #E8F0FE;\n",
              "      --fill-color: #1967D2;\n",
              "      --hover-bg-color: #E2EBFA;\n",
              "      --hover-fill-color: #174EA6;\n",
              "      --disabled-fill-color: #AAA;\n",
              "      --disabled-bg-color: #DDD;\n",
              "  }\n",
              "\n",
              "  [theme=dark] .colab-df-quickchart {\n",
              "      --bg-color: #3B4455;\n",
              "      --fill-color: #D2E3FC;\n",
              "      --hover-bg-color: #434B5C;\n",
              "      --hover-fill-color: #FFFFFF;\n",
              "      --disabled-bg-color: #3B4455;\n",
              "      --disabled-fill-color: #666;\n",
              "  }\n",
              "\n",
              "  .colab-df-quickchart {\n",
              "    background-color: var(--bg-color);\n",
              "    border: none;\n",
              "    border-radius: 50%;\n",
              "    cursor: pointer;\n",
              "    display: none;\n",
              "    fill: var(--fill-color);\n",
              "    height: 32px;\n",
              "    padding: 0;\n",
              "    width: 32px;\n",
              "  }\n",
              "\n",
              "  .colab-df-quickchart:hover {\n",
              "    background-color: var(--hover-bg-color);\n",
              "    box-shadow: 0 1px 2px rgba(60, 64, 67, 0.3), 0 1px 3px 1px rgba(60, 64, 67, 0.15);\n",
              "    fill: var(--button-hover-fill-color);\n",
              "  }\n",
              "\n",
              "  .colab-df-quickchart-complete:disabled,\n",
              "  .colab-df-quickchart-complete:disabled:hover {\n",
              "    background-color: var(--disabled-bg-color);\n",
              "    fill: var(--disabled-fill-color);\n",
              "    box-shadow: none;\n",
              "  }\n",
              "\n",
              "  .colab-df-spinner {\n",
              "    border: 2px solid var(--fill-color);\n",
              "    border-color: transparent;\n",
              "    border-bottom-color: var(--fill-color);\n",
              "    animation:\n",
              "      spin 1s steps(1) infinite;\n",
              "  }\n",
              "\n",
              "  @keyframes spin {\n",
              "    0% {\n",
              "      border-color: transparent;\n",
              "      border-bottom-color: var(--fill-color);\n",
              "      border-left-color: var(--fill-color);\n",
              "    }\n",
              "    20% {\n",
              "      border-color: transparent;\n",
              "      border-left-color: var(--fill-color);\n",
              "      border-top-color: var(--fill-color);\n",
              "    }\n",
              "    30% {\n",
              "      border-color: transparent;\n",
              "      border-left-color: var(--fill-color);\n",
              "      border-top-color: var(--fill-color);\n",
              "      border-right-color: var(--fill-color);\n",
              "    }\n",
              "    40% {\n",
              "      border-color: transparent;\n",
              "      border-right-color: var(--fill-color);\n",
              "      border-top-color: var(--fill-color);\n",
              "    }\n",
              "    60% {\n",
              "      border-color: transparent;\n",
              "      border-right-color: var(--fill-color);\n",
              "    }\n",
              "    80% {\n",
              "      border-color: transparent;\n",
              "      border-right-color: var(--fill-color);\n",
              "      border-bottom-color: var(--fill-color);\n",
              "    }\n",
              "    90% {\n",
              "      border-color: transparent;\n",
              "      border-bottom-color: var(--fill-color);\n",
              "    }\n",
              "  }\n",
              "</style>\n",
              "\n",
              "  <script>\n",
              "    async function quickchart(key) {\n",
              "      const quickchartButtonEl =\n",
              "        document.querySelector('#' + key + ' button');\n",
              "      quickchartButtonEl.disabled = true;  // To prevent multiple clicks.\n",
              "      quickchartButtonEl.classList.add('colab-df-spinner');\n",
              "      try {\n",
              "        const charts = await google.colab.kernel.invokeFunction(\n",
              "            'suggestCharts', [key], {});\n",
              "      } catch (error) {\n",
              "        console.error('Error during call to suggestCharts:', error);\n",
              "      }\n",
              "      quickchartButtonEl.classList.remove('colab-df-spinner');\n",
              "      quickchartButtonEl.classList.add('colab-df-quickchart-complete');\n",
              "    }\n",
              "    (() => {\n",
              "      let quickchartButtonEl =\n",
              "        document.querySelector('#df-f30d6179-4a5a-4db5-8599-e55e089ebc9b button');\n",
              "      quickchartButtonEl.style.display =\n",
              "        google.colab.kernel.accessAllowed ? 'block' : 'none';\n",
              "    })();\n",
              "  </script>\n",
              "</div>\n",
              "    </div>\n",
              "  </div>\n"
            ]
          },
          "metadata": {},
          "execution_count": 13
        }
      ]
    },
    {
      "cell_type": "markdown",
      "source": [
        "## Modeling\n",
        "Tiến hành:\n",
        "\n",
        "- Xác định Feature-Target.\n",
        "- Chia các tập Train-Test.\n",
        "- Thực hiện Feature Scaling nếu cần.\n",
        "- Thực hiện xử lý Imbalanced Data nếu cần.\n",
        "- Tạo và train Model.\n",
        "- Đánh giá Model."
      ],
      "metadata": {
        "id": "5JGxXJNrUsj7"
      }
    },
    {
      "cell_type": "markdown",
      "metadata": {
        "id": "NYAzWxn7VyR9"
      },
      "source": [
        "### Define Feature - Target"
      ]
    },
    {
      "cell_type": "markdown",
      "source": [
        "Ở đây tiến hành tạo 2 cặp Feature - Target như đã đề cập ở phần Correlation Analysis:\n",
        "- X, y với X là tất cả các Feature.\n",
        "- x, y với x gồm 3 cột `age`, `balance`, `active_member`.\n",
        "- y là `churn`."
      ],
      "metadata": {
        "id": "QrrAfK20B0vm"
      }
    },
    {
      "cell_type": "code",
      "source": [
        "# tạo X với tất cả Feature\n",
        "X = df.drop(columns = 'churn')\n",
        "\n",
        "# tạo x với 3 Feature\n",
        "x = df[['age', 'balance', 'active_member']]\n",
        "\n",
        "#  tạo y\n",
        "y = df['churn']"
      ],
      "metadata": {
        "id": "JhgqzKLLNiJG"
      },
      "execution_count": null,
      "outputs": []
    },
    {
      "cell_type": "markdown",
      "metadata": {
        "id": "VaRSKqGkO9el"
      },
      "source": [
        "### Train - Test Split"
      ]
    },
    {
      "cell_type": "markdown",
      "source": [
        "Từ 2 cặp (X,y) và (x,y) sẽ tiến hành split thành 2 cặp (X_train, X_test, Y_train, Y_test) và (x_train, x_test, y_train, y_test)."
      ],
      "metadata": {
        "id": "9kteJC1HGayh"
      }
    },
    {
      "cell_type": "code",
      "source": [
        "from sklearn.model_selection import train_test_split\n",
        "\n",
        "# chia train-test cho (X,y)\n",
        "X_train, X_test, Y_train, Y_test = train_test_split(X, y, test_size=0.2, random_state=6)"
      ],
      "metadata": {
        "id": "bl4dTXp5O4Qx"
      },
      "execution_count": null,
      "outputs": []
    },
    {
      "cell_type": "code",
      "source": [
        "# chia train-test cho (x,y)\n",
        "x_train, x_test, y_train, y_test = train_test_split(x, y, test_size=0.2, random_state=7)"
      ],
      "metadata": {
        "id": "xUxNJqUZQD4E"
      },
      "execution_count": null,
      "outputs": []
    },
    {
      "cell_type": "markdown",
      "metadata": {
        "id": "_3dTV7UFQRIG"
      },
      "source": [
        "### Scale Data\n",
        "\n",
        "Bước này giúp model xử lý nhanh, không thiên vị và ổn định.\n",
        "\n",
        "Có 2 kiểu thường gặp:\n",
        "- Standardisation.\n",
        "- Max-Min Normalization."
      ]
    },
    {
      "cell_type": "markdown",
      "source": [
        "Do scale giữa các Feature chênh lệch lớn (Vd `Age` < 92 và `Balance` > 76,485) nên sử dụng Standard thay vì Min-Max scaler."
      ],
      "metadata": {
        "id": "mmgfSPgjGxMn"
      }
    },
    {
      "cell_type": "code",
      "source": [
        "# import module và khởi tạo Scaler\n",
        "from sklearn.preprocessing import StandardScaler\n",
        "std_scaler = StandardScaler()\n",
        "\n",
        "# fit scaler cho X (Full Feature)\n",
        "std_scaler.fit(X_train)\n",
        "X_train_scale = std_scaler.transform(X_train)\n",
        "X_test_scale = std_scaler.transform(X_test)"
      ],
      "metadata": {
        "id": "x1H8OX91Qhs8"
      },
      "execution_count": null,
      "outputs": []
    },
    {
      "cell_type": "code",
      "source": [
        "# fit scaler cho x (3 Feature)\n",
        "std_scaler.fit(x_train)\n",
        "x_train_scale = std_scaler.transform(x_train)\n",
        "x_test_scale = std_scaler.transform(x_test)"
      ],
      "metadata": {
        "id": "5Uwg3l85RlhS"
      },
      "execution_count": null,
      "outputs": []
    },
    {
      "cell_type": "markdown",
      "source": [
        "### Handle Imbalanced Data\n",
        "Thực hiện xử lý Imbalanced Data bằng Resampling nếu cần.\n",
        "Các cách Resampling thường gặp là:\n",
        "- Oversampling.\n",
        "> Dễ gây ra tình trạng overfit và tạo ra dữ liệu ảo ảnh hưởng đến tính chính xác của model.\n",
        "- Undersampling.\n",
        "> Gây ra thất thoát dữ liệu và lãng phí tài nguyên.\n",
        "- Kết hợp giữa oversampling và undersampling.\n",
        "> Kết hợp cả ưu - nhược điểm của 2 cái trên, nhưng nhiều phiên bản và phức tạp hơn."
      ],
      "metadata": {
        "id": "T8wnG6_3Stro"
      }
    },
    {
      "cell_type": "markdown",
      "source": [
        "Ở đây áp dụng cách Resampling kết hợp giữa oversampling và undersampling là SMOTE-ENN.\n",
        "\n",
        "So với các phiên bản còn lại thì phiên bản này tương đối cân bằng giữa việc gia tăng dữ liệu ảo của class Thiểu số ít nhất và thất thoát dữ liệu của class Đa số (tham khảo: [Link](https://www.kdnuggets.com/2023/01/7-smote-variations-oversampling.html))."
      ],
      "metadata": {
        "id": "72v2nb_rbMcd"
      }
    },
    {
      "cell_type": "code",
      "source": [
        "# import module SMOTEENN\n",
        "from imblearn.combine import SMOTEENN\n",
        "\n",
        "# khởi tạo model resampling\n",
        "enn = SMOTEENN(random_state=10)\n",
        "\n",
        "# resample cặp X_train, Y_train (không áp dụng cho X,y gốc tránh leak data và overfit)\n",
        "X_trn_scl_enn, Y_trn_enn = enn.fit_resample(X_train_scale, Y_train)\n",
        "\n",
        "# kiểm tra\n",
        "print('Ban đầu:\\n',Y_train.value_counts(), '\\n')\n",
        "print('Sau khi rebalance với ENN:\\n',Y_trn_enn.value_counts())"
      ],
      "metadata": {
        "colab": {
          "base_uri": "https://localhost:8080/"
        },
        "id": "V8BOQmoEZqNm",
        "outputId": "fc631d56-0727-4dab-afde-818b13750f3f"
      },
      "execution_count": null,
      "outputs": [
        {
          "output_type": "stream",
          "name": "stdout",
          "text": [
            "Ban đầu:\n",
            " 0    6369\n",
            "1    1631\n",
            "Name: churn, dtype: int64 \n",
            "\n",
            "Sau khi rebalance với ENN:\n",
            " 1    5380\n",
            "0    4210\n",
            "Name: churn, dtype: int64\n"
          ]
        }
      ]
    },
    {
      "cell_type": "markdown",
      "metadata": {
        "id": "Q6Phf3X2U7lZ"
      },
      "source": [
        "### Build - Train - Evaluate\n",
        "Thực hiện việc chuẩn bị (Prepare) và triển khai (Deploy) các model."
      ]
    },
    {
      "cell_type": "markdown",
      "source": [
        "Từ yêu cầu đề bài xác định ra bài toán cần xử lý dạng Classification -> lựa chọn các model như `Logistic Regression, Naive Bayes, Decision Tree, Random Forest, KNN, SVM`.\n",
        "\n",
        "Số lượng model sử dụng khá nhiều (**6**) đồng thời cần tính toán và đánh giá cho 2 cặp data là (X,y) và (x,y) nên nhu cầu thực hiện quá trình **Build - Train - Evaluate** (*Xây dựng - Huấn luyện - Đánh giá*) **hàng loạt** (dynamically) là cần thiết."
      ],
      "metadata": {
        "id": "Um58xqnlT3MZ"
      }
    },
    {
      "cell_type": "markdown",
      "source": [
        "#### Prepare\n",
        "Thực hiện các công việc chuẩn bị:\n",
        "\n",
        "- Import thư viện hỗ trợ\n",
        "- Tạo từ điển ML-model để sử dụng và tái sử dụng về sau.\n",
        "- Tạo biến chứa loại bài toán.\n",
        "- Tạo danh sách các models sử dụng.\n",
        "- Tạo hàm thực hiện việc **Build - Train - Evaluate** hàng loạt."
      ],
      "metadata": {
        "id": "OdbuRjtESSe2"
      }
    },
    {
      "cell_type": "code",
      "source": [
        "# import module hỗ trợ import các module khác dưới dạng text\n",
        "import importlib\n",
        "\n",
        "# tạo từ điển lưu trữ thông tin các model Machine Learning đã từng học để tái sử dụng\n",
        "ML_model_dict = {'Linear Regression' : {'module':'sklearn.linear_model', 'Regression':'LinearRegression'},\n",
        "                 'Logistic Regression' : {'module':'sklearn.linear_model', 'Classification':'LogisticRegression'},\n",
        "                 'Naive Bayes' : {'module':'sklearn.naive_bayes', 'Classification':'GaussianNB'},\n",
        "                 'Decision Tree' : {'module':'sklearn.tree', 'Classification':'DecisionTreeClassifier', 'Regression':'DecisionTreeRegressor'},\n",
        "                 'Random Forest' : {'module':'sklearn.ensemble', 'Classification':'RandomForestClassifier', 'Regression':'RandomForestRegressor'},\n",
        "                 'KNN' : {'module':'sklearn.neighbors', 'Classification':'KNeighborsClassifier', 'Regression':'KNeighborsRegressor'},\n",
        "                 'SVM' : {'module':'sklearn.svm', 'Classification':'SVC', 'Regression':'SVR'}\n",
        "                 }"
      ],
      "metadata": {
        "id": "Up-OgTUDUzkb"
      },
      "execution_count": null,
      "outputs": []
    },
    {
      "cell_type": "code",
      "source": [
        "# tạo biến chứa loại bài toán mà model ML xử lý theo yêu cầu đầu bài\n",
        "ML_problem_type = 'Classification'\n",
        "\n",
        "# tạo danh sách model sẽ sử dụng trong bài\n",
        "model_list = ['Logistic Regression', 'Naive Bayes', 'Decision Tree', 'Random Forest', 'KNN', 'SVM']\n",
        "\n",
        "# khởi tạo các list để lưu thông tin tập feature X và model sử dụng cùng các chỉ số đánh giá trước khi lặp\n",
        "ftr = [] # tập Feature đang dùng\n",
        "mdl = [] # tên model đang dùng\n",
        "mtr =[] # metric đánh giá\n",
        "scr = [] # score của metric đánh giá"
      ],
      "metadata": {
        "id": "PQgkijWdT8a2"
      },
      "execution_count": null,
      "outputs": []
    },
    {
      "cell_type": "code",
      "source": [
        "# tạo hàm triển khai model hàng loạt với 5 input là: X (tập Feature sử dụng để split), X_train, X_test, y_train, y_test\n",
        "def deploy_multi_model(X, X_train, X_test, y_train, y_test):\n",
        "\n",
        "  # dùng vòng lặp for thực hiện chuỗi công việc \"Xây dựng, Huấn luyện, Đánh giá\" hàng loạt cho các model trong danh sách\n",
        "  for md in model_list:\n",
        "\n",
        "    # Xây dựng model\n",
        "    module_name = ML_model_dict[md]['module'] # lấy ra tên module gốc từ từ điển \"ML_model_dict\"\n",
        "    module = importlib.import_module(module_name) # import module này bằng method \"import_module\" của \"importlib\" qua tham chiếu là tên\n",
        "    model_name = ML_model_dict[md][ML_problem_type] # lấy ra tên của model cần dùng dựa vào tên model và kiểu bài toán\n",
        "    get_model = getattr(module, model_name) # import model bằng method \"getattr\" của Python\n",
        "    model = get_model() # khởi tạo model\n",
        "    print('\\nModel la', model)\n",
        "\n",
        "    # Huấn luyện model\n",
        "    model.fit(X_train, y_train)\n",
        "\n",
        "    # Đánh giá model\n",
        "\n",
        "    y_pred = model.predict(X_test) # dự đoán y từ tập X_test\n",
        "\n",
        "      # đánh giá cho bài toán Classification\n",
        "    if ML_problem_type == 'Classification':\n",
        "      from sklearn.metrics import confusion_matrix, classification_report ,accuracy_score, precision_score, recall_score, f1_score\n",
        "\n",
        "      # tạo và vẽ heatmap cho confusion matrix\n",
        "      plt.figure(figsize=(4,3))\n",
        "      cm = confusion_matrix(y_test, y_pred)\n",
        "      ax = plt.subplot()\n",
        "      sns.heatmap(cm, annot = True, fmt = \"g\", ax = ax)\n",
        "      ax.set_xlabel(\"Predicted Label\")\n",
        "      ax.set_ylabel(\"Actual Label\")\n",
        "      ax.set_title(\"Confusion Matrix\")\n",
        "      plt.show()\n",
        "\n",
        "      # tính các chỉ số accuracy_score, precision_score, recall_score, f1_score\n",
        "      s1 = accuracy_score(y_test, y_pred) # gán s\n",
        "      s2 = precision_score(y_test, y_pred)\n",
        "      s3 = recall_score(y_test, y_pred)\n",
        "      s4 = f1_score(y_test, y_pred)\n",
        "\n",
        "      # lưu thông tin tập feature X và model sử dụng cùng các chỉ số vào 4 list đã tạo ban đầu\n",
        "      for i in range(4):\n",
        "          ftr.append(X)\n",
        "          mdl.append(md)\n",
        "      mtr.extend(['accuracy','precision','recall','f1_score'])\n",
        "      scr.extend([s1,s2,s3,s4])\n",
        "\n",
        "      # in ra báo cáo tổng hợp các chỉ số đánh giá phân loại\n",
        "      print(classification_report(y_test, y_pred))\n",
        "      print('xxxxxxxxxxxxxxxxxxxxxxxxxxx'*2) # tạo ranh giới phân biệt\n",
        "\n",
        "#################### phần này không nằm trong phạm vi đề bài, tuy nhiên HV muốn làm một cách tổng quát nhất có thể\n",
        "\n",
        "    else: # cho trường hợp khác tức \"Regression\"\n",
        "      from sklearn.metrics import r2_score, mean_absolute_error, mean_squared_error\n",
        "\n",
        "      # tính các chỉ số đánh giá\n",
        "      r2_score = r2_score(y_test, y_pred)\n",
        "      mae = mean_absolute_error(y_test, y_pred)\n",
        "      mse = mean_squared_error(y_test, y_pred)\n",
        "\n",
        "      # in ra các chỉ số\n",
        "      print('R2_score =',r2_score,'\\nMAE =',mae,'\\nMSE =',mse)\n",
        "      print('xxxxxxxxxxxxxxxxxxxxxxxxxxx'*2)\n",
        "####################################################################################################################"
      ],
      "metadata": {
        "id": "xpt6t-LUetHt"
      },
      "execution_count": null,
      "outputs": []
    },
    {
      "cell_type": "markdown",
      "source": [
        "#### Deploy Model\n",
        "Thực hiện công việc chính **Build - Train - Evaluate** hàng loạt cho 2 cặp (X,y) và (x,y)."
      ],
      "metadata": {
        "id": "WRU2D0lRTcVz"
      }
    },
    {
      "cell_type": "markdown",
      "source": [
        "Xem lại các cặp giá trị đầu vào từ 2 cặp (X,y) và (x,y) sau khi trải qua các qiá trình SPLIT - SCALE - RESAMPLE (ENN):\n",
        "![(X,y) va (x,y).jpg](data:image/jpeg;base64,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)"
      ],
      "metadata": {
        "id": "mkk2xARxIb2P"
      }
    },
    {
      "cell_type": "code",
      "source": [
        "# thực hiện deploy model cho cặp (X,y)\n",
        "print ('TRUONG HOP 1: VOI FULL FEATURES KET HOP RESAMPLING BANG SMMOTE-ENN\\n') # ghi chú\n",
        "deploy_multi_model('X', X_trn_scl_enn, X_test_scale, Y_trn_enn, Y_test) # gọi hàm phía trên với 5  input như bảng trong hình\n",
        "print('XXXXXXXXXXXXXXXXXXXXXXXXXXXXXXXXXXXXXXXXXXXXXXXXXXXXXXXXXXXX'*2,'\\n') # tạo ranh phân biệt\n",
        "\n",
        "# thực hiện deploy model cho cặp (x,y)\n",
        "print ('TRUONG HOP 2: VOI 3 FEATURES ANH HUONG NHAT\\n')\n",
        "deploy_multi_model('x', x_train_scale, x_test_scale, y_train, y_test)\n",
        "print('XXXXXXXXXXXXXXXXXXXXXXXXXXXXXXXXXXXXXXXXXXXXXXXXXXXXXXXXXXXX'*2,'\\n')"
      ],
      "metadata": {
        "id": "V1AJgmRuHcPQ",
        "colab": {
          "base_uri": "https://localhost:8080/",
          "height": 1000
        },
        "outputId": "9c19338e-2b64-4369-b63e-bd7c1b56f8a0"
      },
      "execution_count": null,
      "outputs": [
        {
          "output_type": "stream",
          "name": "stdout",
          "text": [
            "TRUONG HOP 1: VOI FULL FEATURES KET HOP RESAMPLING BANG SMMOTE-ENN\n",
            "\n",
            "\n",
            "Model la LogisticRegression()\n"
          ]
        },
        {
          "output_type": "display_data",
          "data": {
            "text/plain": [
              "<Figure size 400x300 with 2 Axes>"
            ],
            "image/png": "[encoded data removed]"
          },
          "metadata": {}
        },
        {
          "output_type": "stream",
          "name": "stdout",
          "text": [
            "              precision    recall  f1-score   support\n",
            "\n",
            "           0       0.90      0.64      0.75      1594\n",
            "           1       0.34      0.73      0.47       406\n",
            "\n",
            "    accuracy                           0.66      2000\n",
            "   macro avg       0.62      0.69      0.61      2000\n",
            "weighted avg       0.79      0.66      0.70      2000\n",
            "\n",
            "xxxxxxxxxxxxxxxxxxxxxxxxxxxxxxxxxxxxxxxxxxxxxxxxxxxxxx\n",
            "\n",
            "Model la GaussianNB()\n"
          ]
        },
        {
          "output_type": "display_data",
          "data": {
            "text/plain": [
              "<Figure size 400x300 with 2 Axes>"
            ],
            "image/png": "[encoded data removed]"
          },
          "metadata": {}
        },
        {
          "output_type": "stream",
          "name": "stdout",
          "text": [
            "              precision    recall  f1-score   support\n",
            "\n",
            "           0       0.91      0.69      0.78      1594\n",
            "           1       0.38      0.74      0.50       406\n",
            "\n",
            "    accuracy                           0.70      2000\n",
            "   macro avg       0.64      0.71      0.64      2000\n",
            "weighted avg       0.80      0.70      0.73      2000\n",
            "\n",
            "xxxxxxxxxxxxxxxxxxxxxxxxxxxxxxxxxxxxxxxxxxxxxxxxxxxxxx\n",
            "\n",
            "Model la DecisionTreeClassifier()\n"
          ]
        },
        {
          "output_type": "display_data",
          "data": {
            "text/plain": [
              "<Figure size 400x300 with 2 Axes>"
            ],
            "image/png": "[encoded data removed]"
          },
          "metadata": {}
        },
        {
          "output_type": "stream",
          "name": "stdout",
          "text": [
            "              precision    recall  f1-score   support\n",
            "\n",
            "           0       0.91      0.79      0.85      1594\n",
            "           1       0.46      0.69      0.55       406\n",
            "\n",
            "    accuracy                           0.77      2000\n",
            "   macro avg       0.68      0.74      0.70      2000\n",
            "weighted avg       0.82      0.77      0.79      2000\n",
            "\n",
            "xxxxxxxxxxxxxxxxxxxxxxxxxxxxxxxxxxxxxxxxxxxxxxxxxxxxxx\n",
            "\n",
            "Model la RandomForestClassifier()\n"
          ]
        },
        {
          "output_type": "display_data",
          "data": {
            "text/plain": [
              "<Figure size 400x300 with 2 Axes>"
            ],
            "image/png": "[encoded data removed]"
          },
          "metadata": {}
        },
        {
          "output_type": "stream",
          "name": "stdout",
          "text": [
            "              precision    recall  f1-score   support\n",
            "\n",
            "           0       0.92      0.82      0.87      1594\n",
            "           1       0.51      0.72      0.60       406\n",
            "\n",
            "    accuracy                           0.80      2000\n",
            "   macro avg       0.72      0.77      0.73      2000\n",
            "weighted avg       0.84      0.80      0.81      2000\n",
            "\n",
            "xxxxxxxxxxxxxxxxxxxxxxxxxxxxxxxxxxxxxxxxxxxxxxxxxxxxxx\n",
            "\n",
            "Model la KNeighborsClassifier()\n"
          ]
        },
        {
          "output_type": "display_data",
          "data": {
            "text/plain": [
              "<Figure size 400x300 with 2 Axes>"
            ],
            "image/png": "[encoded data removed]"
          },
          "metadata": {}
        },
        {
          "output_type": "stream",
          "name": "stdout",
          "text": [
            "              precision    recall  f1-score   support\n",
            "\n",
            "           0       0.92      0.73      0.81      1594\n",
            "           1       0.41      0.74      0.53       406\n",
            "\n",
            "    accuracy                           0.73      2000\n",
            "   macro avg       0.66      0.74      0.67      2000\n",
            "weighted avg       0.81      0.73      0.75      2000\n",
            "\n",
            "xxxxxxxxxxxxxxxxxxxxxxxxxxxxxxxxxxxxxxxxxxxxxxxxxxxxxx\n",
            "\n",
            "Model la SVC()\n"
          ]
        },
        {
          "output_type": "display_data",
          "data": {
            "text/plain": [
              "<Figure size 400x300 with 2 Axes>"
            ],
            "image/png": "[encoded data removed]"
          },
          "metadata": {}
        },
        {
          "output_type": "stream",
          "name": "stdout",
          "text": [
            "              precision    recall  f1-score   support\n",
            "\n",
            "           0       0.93      0.73      0.82      1594\n",
            "           1       0.43      0.79      0.56       406\n",
            "\n",
            "    accuracy                           0.75      2000\n",
            "   macro avg       0.68      0.76      0.69      2000\n",
            "weighted avg       0.83      0.75      0.77      2000\n",
            "\n",
            "xxxxxxxxxxxxxxxxxxxxxxxxxxxxxxxxxxxxxxxxxxxxxxxxxxxxxx\n",
            "XXXXXXXXXXXXXXXXXXXXXXXXXXXXXXXXXXXXXXXXXXXXXXXXXXXXXXXXXXXXXXXXXXXXXXXXXXXXXXXXXXXXXXXXXXXXXXXXXXXXXXXXXXXXXXXXXXXXXXXX \n",
            "\n",
            "TRUONG HOP 2: VOI 3 FEATURES ANH HUONG NHAT\n",
            "\n",
            "\n",
            "Model la LogisticRegression()\n"
          ]
        },
        {
          "output_type": "display_data",
          "data": {
            "text/plain": [
              "<Figure size 400x300 with 2 Axes>"
            ],
            "image/png": "[encoded data removed]"
          },
          "metadata": {}
        },
        {
          "output_type": "stream",
          "name": "stdout",
          "text": [
            "              precision    recall  f1-score   support\n",
            "\n",
            "           0       0.82      0.98      0.89      1589\n",
            "           1       0.66      0.16      0.26       411\n",
            "\n",
            "    accuracy                           0.81      2000\n",
            "   macro avg       0.74      0.57      0.58      2000\n",
            "weighted avg       0.79      0.81      0.76      2000\n",
            "\n",
            "xxxxxxxxxxxxxxxxxxxxxxxxxxxxxxxxxxxxxxxxxxxxxxxxxxxxxx\n",
            "\n",
            "Model la GaussianNB()\n"
          ]
        },
        {
          "output_type": "display_data",
          "data": {
            "text/plain": [
              "<Figure size 400x300 with 2 Axes>"
            ],
            "image/png": "[encoded data removed]"
          },
          "metadata": {}
        },
        {
          "output_type": "stream",
          "name": "stdout",
          "text": [
            "              precision    recall  f1-score   support\n",
            "\n",
            "           0       0.81      0.98      0.89      1589\n",
            "           1       0.68      0.14      0.23       411\n",
            "\n",
            "    accuracy                           0.81      2000\n",
            "   macro avg       0.75      0.56      0.56      2000\n",
            "weighted avg       0.79      0.81      0.75      2000\n",
            "\n",
            "xxxxxxxxxxxxxxxxxxxxxxxxxxxxxxxxxxxxxxxxxxxxxxxxxxxxxx\n",
            "\n",
            "Model la DecisionTreeClassifier()\n"
          ]
        },
        {
          "output_type": "display_data",
          "data": {
            "text/plain": [
              "<Figure size 400x300 with 2 Axes>"
            ],
            "image/png": "[encoded data removed]"
          },
          "metadata": {}
        },
        {
          "output_type": "stream",
          "name": "stdout",
          "text": [
            "              precision    recall  f1-score   support\n",
            "\n",
            "           0       0.85      0.87      0.86      1589\n",
            "           1       0.44      0.41      0.43       411\n",
            "\n",
            "    accuracy                           0.77      2000\n",
            "   macro avg       0.65      0.64      0.64      2000\n",
            "weighted avg       0.77      0.77      0.77      2000\n",
            "\n",
            "xxxxxxxxxxxxxxxxxxxxxxxxxxxxxxxxxxxxxxxxxxxxxxxxxxxxxx\n",
            "\n",
            "Model la RandomForestClassifier()\n"
          ]
        },
        {
          "output_type": "display_data",
          "data": {
            "text/plain": [
              "<Figure size 400x300 with 2 Axes>"
            ],
            "image/png": "[encoded data removed]"
          },
          "metadata": {}
        },
        {
          "output_type": "stream",
          "name": "stdout",
          "text": [
            "              precision    recall  f1-score   support\n",
            "\n",
            "           0       0.85      0.89      0.87      1589\n",
            "           1       0.47      0.37      0.41       411\n",
            "\n",
            "    accuracy                           0.79      2000\n",
            "   macro avg       0.66      0.63      0.64      2000\n",
            "weighted avg       0.77      0.79      0.78      2000\n",
            "\n",
            "xxxxxxxxxxxxxxxxxxxxxxxxxxxxxxxxxxxxxxxxxxxxxxxxxxxxxx\n",
            "\n",
            "Model la KNeighborsClassifier()\n"
          ]
        },
        {
          "output_type": "display_data",
          "data": {
            "text/plain": [
              "<Figure size 400x300 with 2 Axes>"
            ],
            "image/png": "[encoded data removed]"
          },
          "metadata": {}
        },
        {
          "output_type": "stream",
          "name": "stdout",
          "text": [
            "              precision    recall  f1-score   support\n",
            "\n",
            "           0       0.84      0.93      0.89      1589\n",
            "           1       0.57      0.34      0.42       411\n",
            "\n",
            "    accuracy                           0.81      2000\n",
            "   macro avg       0.70      0.64      0.65      2000\n",
            "weighted avg       0.79      0.81      0.79      2000\n",
            "\n",
            "xxxxxxxxxxxxxxxxxxxxxxxxxxxxxxxxxxxxxxxxxxxxxxxxxxxxxx\n",
            "\n",
            "Model la SVC()\n"
          ]
        },
        {
          "output_type": "display_data",
          "data": {
            "text/plain": [
              "<Figure size 400x300 with 2 Axes>"
            ],
            "image/png": "[encoded data removed]"
          },
          "metadata": {}
        },
        {
          "output_type": "stream",
          "name": "stdout",
          "text": [
            "              precision    recall  f1-score   support\n",
            "\n",
            "           0       0.84      0.98      0.90      1589\n",
            "           1       0.74      0.26      0.38       411\n",
            "\n",
            "    accuracy                           0.83      2000\n",
            "   macro avg       0.79      0.62      0.64      2000\n",
            "weighted avg       0.82      0.83      0.79      2000\n",
            "\n",
            "xxxxxxxxxxxxxxxxxxxxxxxxxxxxxxxxxxxxxxxxxxxxxxxxxxxxxx\n",
            "XXXXXXXXXXXXXXXXXXXXXXXXXXXXXXXXXXXXXXXXXXXXXXXXXXXXXXXXXXXXXXXXXXXXXXXXXXXXXXXXXXXXXXXXXXXXXXXXXXXXXXXXXXXXXXXXXXXXXXXX \n",
            "\n"
          ]
        }
      ]
    },
    {
      "cell_type": "code",
      "source": [
        "# tạo dataFrame từ 4 list chứa thông tin kết quả đánh giá các model cuối cùng\n",
        "model_comparison = pd.DataFrame({'Set':ftr,'Model':mdl,'Metric':mtr,'Score':scr})\n",
        "\n",
        "# vẽ biểu đồ so sánh dựa trên dataFrame đã tạo\n",
        "sns.relplot(data=model_comparison, x='Score', y='Model',\n",
        "            col='Set', hue='Metric', style='Metric')"
      ],
      "metadata": {
        "colab": {
          "base_uri": "https://localhost:8080/",
          "height": 524
        },
        "id": "_IxfGPTqvqJu",
        "outputId": "0cb6be5c-d069-4c6b-f516-0d3191fcc305"
      },
      "execution_count": null,
      "outputs": [
        {
          "output_type": "execute_result",
          "data": {
            "text/plain": [
              "<seaborn.axisgrid.FacetGrid at 0x78c29fed6f80>"
            ]
          },
          "metadata": {},
          "execution_count": 25
        },
        {
          "output_type": "display_data",
          "data": {
            "text/plain": [
              "<Figure size 1112.88x500 with 2 Axes>"
            ],
            "image/png": "[encoded data removed]"
          },
          "metadata": {}
        }
      ]
    },
    {
      "cell_type": "markdown",
      "source": [
        "## Remark & Suggestion\n",
        "> **NHẬN XÉT**\n",
        "\n",
        "- Các model sử dụng tập x (3 Features) thường cho ra chỉ số `Accuracy` cao hơn so với khi sử dụng tập X (Full Feature) trừ 2 trường hợp `Decision Tree` và `Random Forest`.\n",
        "- Các model sử dụng tập x đều cho ra 2 chỉ số `F1_score` và `Recall` thấp hơn nhiều so với khi sử dụng tập X.\n",
        "- Các model dùng tập X cho ra `Recall` khá tốt (min = 0.69 với `Decision Tree`) và `F1_score` ở mức chấp nhận được (min = 0.47 với `Logistic Regression`).\n",
        "- Các model dùng tập x cho ra `Recall` rất kém (max = 0.4 với `Decision Tree`) và `F1_score` cũng kém (max = 0.42 với `Decision Tree`).\n",
        "- **Max** `Accuracy` = **0.83** với `SVC` (tập x), theo sau là 0.81 của **`Random Forest`** (tập X) và một số model khác như `Logistic Regression` (tập x).\n",
        "- **Max** `F1_score` = **0.61** với  **`Random Forest`** (tập X).\n",
        "- **Max** `Recall` = **0.79** với `SVC` (tập X), theo sau là 0.74 của **`Random Forest`** (tập X) và một số model khác như `KNN` (tập X).\n",
        "- `Resampling` giúp model hoạt động tốt hơn so với `Feature Selection` dựa vào Correlation. Tuy nhiên có thể vì correlation giữa 3 Feature `age, balance` và `active_member` với Target `churn` ban đầu khá thấp (< 0.3).\n",
        "\n",
        "> **ĐỀ XUẤT**\n",
        "\n",
        "- Trong phạm vi đề bài thì model **`Random Forest`** hoạt động tốt nhất (`F1_score` cao nhất, `Accuracy` và `Recall` cao thứ nhì).\n",
        "- Tuy nhiên trong điều kiện thực tế vẫn nên áp dụng 2 cách tiếp cận trên (`Resampling` vs `Feature Selection`) song song với xây dựng nhiều model để có cái nhìn tổng quát và toàn diện hơn so với việc chỉ áp dụng mỗi `Resampling` và dùng model **`Random Forest`**.\n",
        "- Đồng thời sau khi tìm ra model hoạt động khả quan nhất trong từng trường hợp cụ thể (Vd **`Random Forest`** như trong bài) có thể cân nhắc hiệu chỉnh và tối ưu hóa model đó (Vd sử dụng `GridSearchCV` tìm ra tham số tối ưu) để hoàn thiện hơn nữa trong điều kiện Tài chính - Nhân lực - Thời gian cho phép.\n"
      ],
      "metadata": {
        "id": "Ef-IMP9IVvtM"
      }
    }
  ]
}